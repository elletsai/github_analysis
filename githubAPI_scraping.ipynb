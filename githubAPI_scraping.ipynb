{
 "cells": [
  {
   "cell_type": "markdown",
   "metadata": {},
   "source": [
    "### Get search bar repos"
   ]
  },
  {
   "cell_type": "code",
   "execution_count": null,
   "metadata": {},
   "outputs": [],
   "source": [
    "import requests\n",
    "import time\n",
    "import json\n",
    "from datetime import datetime, timedelta\n",
    "# get current time and prev 1 hour time(get repo segment)\n",
    "\n",
    "currentDT = datetime.now()\n",
    "now = currentDT\n",
    "\n",
    "prev_1 = currentDT-timedelta(hours=1)\n",
    "\n",
    "repoSearch_list = []\n",
    "\n",
    "create_time = requests.get('https://api.github.com/repos/automenta/opendestin')\n",
    "create_json = json.loads(create_time.text)\n",
    "old = create_json['created_at']\n",
    "old = datetime.strptime(old, '%Y-%m-%dT%H:%M:%SZ')\n",
    "\n",
    "while old<now:\n",
    "\n",
    "    now = now.strftime(\"%Y-%m-%dT%H:%M:%SZ\")\n",
    "    prev_1 = prev_1.strftime(\"%Y-%m-%dT%H:%M:%SZ\")\n",
    "    \n",
    "    repoSearch = requests.get('https://api.github.com/search/repositories?&q=deep+learning+created:'+prev_1+'..'+now+'&order=asc&per_page=100', auth = ('elletsai', '0f5c16b728f522f5b19c17c8981b8b9d51619df3'))\n",
    "    repoSearch_json = json.loads(repoSearch.text)\n",
    "    \n",
    "    print(now)\n",
    "# ==== minus one hour =========\n",
    "    prev_1 = datetime.strptime(prev_1, '%Y-%m-%dT%H:%M:%SZ')\n",
    "    now = prev_1- timedelta(seconds=1)\n",
    "    prev_1 = prev_1 - timedelta(hours=1)\n",
    "\n",
    "# ==== add to list ========    \n",
    "    if repoSearch_json['items'] != []:\n",
    "        repo_list = [repo['full_name'] for repo in repoSearch_json['items']]\n",
    "        repoSearch_list += repo_list\n",
    "    \n",
    "    \n",
    "    count+=1\n",
    "    batch(repoSearch_list)\n",
    "    \n",
    "    time.sleep(2)\n",
    "repoSearch_list\n",
    "#repoSearch.text"
   ]
  },
  {
   "cell_type": "markdown",
   "metadata": {},
   "source": [
    "### get created time of the oldest repo"
   ]
  },
  {
   "cell_type": "code",
   "execution_count": null,
   "metadata": {
    "scrolled": true
   },
   "outputs": [],
   "source": [
    "create_time = requests.get('https://api.github.com/repos/automenta/opendestin')\n",
    "create_json = json.loads(create_time.text)\n",
    "old = create_json['created_at']\n",
    "old = datetime.strptime(old, '%Y-%m-%dT%H:%M:%SZ')\n",
    "old"
   ]
  },
  {
   "cell_type": "markdown",
   "metadata": {},
   "source": [
    "## save pickle"
   ]
  },
  {
   "cell_type": "code",
   "execution_count": null,
   "metadata": {},
   "outputs": [],
   "source": [
    "import pickle\n",
    "filepath = '/Users/ellesmac/jupyter_notebook/repo_list.pkl'\n",
    "def batch(repo_list):\n",
    "    \n",
    "    with open(filepath, 'wb') as f:\n",
    "        pickle.dump(repo_list, f)"
   ]
  },
  {
   "cell_type": "code",
   "execution_count": null,
   "metadata": {},
   "outputs": [],
   "source": [
    "import pickle\n",
    "filepathLast = '/Users/ellesmac/jupyter_notebook/last_list.pkl'\n",
    "def batch(last_list):\n",
    "    \n",
    "    with open(filepath, 'wb') as f:\n",
    "        pickle.dump(last_list, f)"
   ]
  },
  {
   "cell_type": "code",
   "execution_count": null,
   "metadata": {},
   "outputs": [],
   "source": [
    "with open(filepath, 'rb') as f:\n",
    "    repo_list = pickle.load(f)"
   ]
  },
  {
   "cell_type": "code",
   "execution_count": null,
   "metadata": {},
   "outputs": [],
   "source": [
    "with open(filepathLast, 'rb') as f:\n",
    "    li_list = pickle.load(f)"
   ]
  },
  {
   "cell_type": "markdown",
   "metadata": {},
   "source": [
    "## get repo list"
   ]
  },
  {
   "cell_type": "code",
   "execution_count": null,
   "metadata": {},
   "outputs": [],
   "source": [
    "finalList = li_list+repo_list\n",
    "len(set(finalList))"
   ]
  },
  {
   "cell_type": "code",
   "execution_count": null,
   "metadata": {},
   "outputs": [],
   "source": [
    "now = '2018-12-29T18:31:05Z'\n",
    "from datetime import datetime, timedelta\n",
    "\n",
    "now = datetime.strptime(now, '%Y-%m-%dT%H:%M:%SZ')\n",
    "now"
   ]
  },
  {
   "cell_type": "code",
   "execution_count": null,
   "metadata": {},
   "outputs": [],
   "source": [
    "prev_1 = now-timedelta(hours=1)\n",
    "prev_1"
   ]
  },
  {
   "cell_type": "markdown",
   "metadata": {},
   "source": [
    "## List Branches"
   ]
  },
  {
   "cell_type": "code",
   "execution_count": null,
   "metadata": {
    "scrolled": true
   },
   "outputs": [],
   "source": [
    "listBranch= requests.get('https://api.github.com/repos/'+finalList[0]+'/branches')\n",
    "listBranch_json = json.loads(listBranch.text)\n",
    "listBranch_json"
   ]
  },
  {
   "cell_type": "markdown",
   "metadata": {},
   "source": [
    "## Get Branches"
   ]
  },
  {
   "cell_type": "code",
   "execution_count": null,
   "metadata": {},
   "outputs": [],
   "source": [
    "getBranch= requests.get('https://api.github.com/repos/'+finalList[0]+'/branches/:branch')\n",
    "getBranch= requests.get('https://api.github.com/repos/keras-team/keras/branches')\n",
    "\n",
    "getBranch_json = json.loads(getBranch.text)\n",
    "getBranch_json\n"
   ]
  },
  {
   "cell_type": "markdown",
   "metadata": {},
   "source": [
    "## List Collaborators\n",
    "!!!!!!!!!!!!!! NEED ACCESS TOKEN"
   ]
  },
  {
   "cell_type": "code",
   "execution_count": null,
   "metadata": {},
   "outputs": [],
   "source": [
    "listColl= requests.get('https://api.github.com/repos/'+finalList[0]+'/collaborators?access_token=fff',auth = ('elletsai', '0f5c16b728f522f5b19c17c8981b8b9d51619df3'))\n",
    "listColl_json = json.loads(listColl.text)\n",
    "listColl_json\n"
   ]
  },
  {
   "cell_type": "code",
   "execution_count": null,
   "metadata": {},
   "outputs": [],
   "source": [
    "# who has access token\n",
    "coll = requests.get('https://api.github.com/repos/jquery/jquery/contributors?page=1?access_token=fff')\n",
    "coll = json.loads(coll.text)\n",
    "coll\n",
    "\n"
   ]
  },
  {
   "cell_type": "code",
   "execution_count": null,
   "metadata": {},
   "outputs": [],
   "source": [
    "check = requests.get('https://api.github.com/repos/'+finalList[0]+'/collaborators/elletsai',auth = ('elletsai', '0f5c16b728f522f5b19c17c8981b8b9d51619df3'))\n",
    "check"
   ]
  },
  {
   "cell_type": "markdown",
   "metadata": {},
   "source": [
    "## List Commits"
   ]
  },
  {
   "cell_type": "code",
   "execution_count": null,
   "metadata": {
    "scrolled": true
   },
   "outputs": [],
   "source": [
    "listCommit= requests.get('https://api.github.com/repos/'+finalList[0]+'/commits',auth = ('elletsai', '0f5c16b728f522f5b19c17c8981b8b9d51619df3'))\n",
    "listCommit_json = json.loads(listCommit.text)\n",
    "listCommit_json"
   ]
  },
  {
   "cell_type": "markdown",
   "metadata": {},
   "source": [
    "## List Single Commits"
   ]
  },
  {
   "cell_type": "code",
   "execution_count": null,
   "metadata": {},
   "outputs": [],
   "source": [
    "listSgleCommit= requests.get('https://api.github.com/repos/'+finalList[0]+'/commits/8a1bbb764f7777d1b646e7c4123cac904861a363',auth = ('elletsai', '0f5c16b728f522f5b19c17c8981b8b9d51619df3'))\n",
    "listSgleCommit_json = json.loads(listSgleCommit.text)\n",
    "listSgleCommit_json\n",
    "\n"
   ]
  },
  {
   "cell_type": "markdown",
   "metadata": {},
   "source": [
    "## Compare two commits"
   ]
  },
  {
   "cell_type": "code",
   "execution_count": null,
   "metadata": {},
   "outputs": [],
   "source": [
    "listDiffCommit= requests.get('https://api.github.com/repos/'+finalList[0]+'/compare/digits-1.0...digits-2.0',auth = ('elletsai', '0f5c16b728f522f5b19c17c8981b8b9d51619df3'))\n",
    "listDiffCommit_json = json.loads(listDiffCommit.text)\n",
    "listDiffCommit_json\n",
    "\n"
   ]
  },
  {
   "cell_type": "markdown",
   "metadata": {},
   "source": [
    "## List Comments"
   ]
  },
  {
   "cell_type": "code",
   "execution_count": null,
   "metadata": {},
   "outputs": [],
   "source": [
    "listComments= requests.get('https://api.github.com/repos/'+finalList[0]+'/comments',auth = ('elletsai', '0f5c16b728f522f5b19c17c8981b8b9d51619df3'))\n",
    "listComments_json = json.loads(listComments.text)\n",
    "listComments_json\n"
   ]
  },
  {
   "cell_type": "markdown",
   "metadata": {},
   "source": [
    "## Get Readme"
   ]
  },
  {
   "cell_type": "code",
   "execution_count": null,
   "metadata": {},
   "outputs": [],
   "source": [
    "listRm= requests.get('https://api.github.com/repos/'+finalList[0]+'/readme',auth = ('elletsai', '0f5c16b728f522f5b19c17c8981b8b9d51619df3'))\n",
    "listRm_json = json.loads(listRm.text)\n",
    "listRm_json\n"
   ]
  },
  {
   "cell_type": "markdown",
   "metadata": {},
   "source": [
    "## List Deployment"
   ]
  },
  {
   "cell_type": "code",
   "execution_count": null,
   "metadata": {},
   "outputs": [],
   "source": [
    "listDepl= requests.get('https://api.github.com/repos/'+finalList[2]+'/deployments',auth = ('elletsai', '0f5c16b728f522f5b19c17c8981b8b9d51619df3'))\n",
    "#listDepl= requests.get('https://api.github.com/repos/keras-team/keras/keys')\n",
    "\n",
    "listDepl_json = json.loads(listDepl.text)\n",
    "listDepl_json\n"
   ]
  },
  {
   "cell_type": "markdown",
   "metadata": {},
   "source": [
    "## List Downloads\n",
    " !!!!!!!!!!<br/>\n",
    " if wanna see # downloads, it can be found in release<br/>\n",
    " The Downloads API (described below) was deprecated on December 11, 2012. It will be removed at a future date."
   ]
  },
  {
   "cell_type": "code",
   "execution_count": null,
   "metadata": {},
   "outputs": [],
   "source": [
    "# listDownloads= requests.get('https://api.github.com/repos/'+finalList[100]+'/releases',auth = ('elletsai', '0f5c16b728f522f5b19c17c8981b8b9d51619df3'))\n",
    "# use releases\n",
    "listDownloads= requests.get('https://api.github.com/repos/keras-team/keras/downloads',auth = ('elletsai', '0f5c16b728f522f5b19c17c8981b8b9d51619df3'))\n",
    "listDownloads_json = json.loads(listDownloads.text)\n",
    "listDownloads.text\n",
    "\n"
   ]
  },
  {
   "cell_type": "markdown",
   "metadata": {},
   "source": [
    "## List Watchers"
   ]
  },
  {
   "cell_type": "code",
   "execution_count": null,
   "metadata": {},
   "outputs": [],
   "source": [
    "listWatchers= requests.get('https://api.github.com/repos/'+finalList[0]+'/subscribers',auth = ('elletsai', '0f5c16b728f522f5b19c17c8981b8b9d51619df3'))\n",
    "listWatchers_json = json.loads(listWatchers.text)\n",
    "listWatchers_json\n"
   ]
  },
  {
   "cell_type": "markdown",
   "metadata": {},
   "source": [
    "## List StarGazers"
   ]
  },
  {
   "cell_type": "code",
   "execution_count": null,
   "metadata": {},
   "outputs": [],
   "source": [
    "listStarGazers= requests.get('https://api.github.com/repos/'+finalList[0]+'/stargazers',auth = ('elletsai', '0f5c16b728f522f5b19c17c8981b8b9d51619df3'))\n",
    "listStarGazers_json = json.loads(listStarGazers.text)\n",
    "listStarGazers_json\n"
   ]
  },
  {
   "cell_type": "markdown",
   "metadata": {},
   "source": [
    "## List Forks"
   ]
  },
  {
   "cell_type": "code",
   "execution_count": null,
   "metadata": {},
   "outputs": [],
   "source": [
    "listForks= requests.get('https://api.github.com/repos/'+finalList[0]+'/forks',auth = ('elletsai', '0f5c16b728f522f5b19c17c8981b8b9d51619df3'))\n",
    "listForks_json = json.loads(listForks.text)\n",
    "listForks_json\n"
   ]
  },
  {
   "cell_type": "markdown",
   "metadata": {},
   "source": [
    "## List Invitation for Repos\n",
    "When authenticating as a user with admin rights to a repository, this endpoint will list all currently open repository invitations.\n"
   ]
  },
  {
   "cell_type": "code",
   "execution_count": null,
   "metadata": {},
   "outputs": [],
   "source": [
    "listInvi= requests.get('https://api.github.com/repos/'+finalList[0]+'/invitations',auth = ('elletsai', '0f5c16b728f522f5b19c17c8981b8b9d51619df3'))\n",
    "listInvi_json = json.loads(listInvi.text)\n",
    "listInvi_json\n",
    "\n"
   ]
  },
  {
   "cell_type": "markdown",
   "metadata": {},
   "source": [
    "## List a user's repo invitations\n",
    "##### When authenticating as a user, this endpoint will list all currently open repository invitations for that user.\n",
    "\n"
   ]
  },
  {
   "cell_type": "code",
   "execution_count": null,
   "metadata": {},
   "outputs": [],
   "source": [
    "listUserInvi= requests.get('https://api.github.com/repos/'+finalList[0]+'/invitations',auth = ('elletsai', '0f5c16b728f522f5b19c17c8981b8b9d51619df3'))\n",
    "listUserInvi_json = json.loads(listUserInvi.text)\n",
    "listUserInvi_json\n",
    "\n"
   ]
  },
  {
   "cell_type": "markdown",
   "metadata": {},
   "source": [
    "## Get Pages Info\n",
    "!!Needs authorization"
   ]
  },
  {
   "cell_type": "code",
   "execution_count": null,
   "metadata": {},
   "outputs": [],
   "source": [
    "listPgInfo= requests.get('https://api.github.com/repos/'+finalList[0]+'/pages',auth = ('elletsai', '0f5c16b728f522f5b19c17c8981b8b9d51619df3'))\n",
    "listPgInfo= requests.get('https://api.github.com/repos/keras-team/keras/pages')\n",
    "listPgInfo_json = json.loads(listPgInfo.text)\n",
    "listPgInfo_json\n"
   ]
  },
  {
   "cell_type": "markdown",
   "metadata": {},
   "source": [
    "## List Page Builds\n",
    "!!Needs authorization"
   ]
  },
  {
   "cell_type": "code",
   "execution_count": null,
   "metadata": {},
   "outputs": [],
   "source": [
    "listPgBuilds= requests.get('https://api.github.com/repos/'+finalList[0]+'/pages/builds',auth = ('elletsai', '0f5c16b728f522f5b19c17c8981b8b9d51619df3'))\n",
    "listPgBuilds_json = json.loads(listPgBuilds.text)\n",
    "listPgBuilds_json\n",
    "\n"
   ]
  },
  {
   "cell_type": "markdown",
   "metadata": {},
   "source": [
    "## List Release"
   ]
  },
  {
   "cell_type": "code",
   "execution_count": null,
   "metadata": {},
   "outputs": [],
   "source": [
    "listPgBuilds= requests.get('https://api.github.com/repos/'+finalList[0]+'/releases',auth = ('elletsai', '0f5c16b728f522f5b19c17c8981b8b9d51619df3'))\n",
    "listPgBuilds_json = json.loads(listPgBuilds.text)\n",
    "listPgBuilds_json\n"
   ]
  },
  {
   "cell_type": "markdown",
   "metadata": {},
   "source": [
    "## Get Contribution List\n",
    "w:start of the week<br/>\n",
    "a:  additions<br/>\n",
    "d: # deletions<br/>\n",
    "c: # commits<br/>"
   ]
  },
  {
   "cell_type": "code",
   "execution_count": null,
   "metadata": {},
   "outputs": [],
   "source": [
    "listContriList= requests.get('https://api.github.com/repos/'+finalList[0]+'/stats/contributors',auth = ('elletsai', '0f5c16b728f522f5b19c17c8981b8b9d51619df3'))\n",
    "listContriList_json = json.loads(listContriList.text)\n",
    "listContriList_json\n"
   ]
  },
  {
   "cell_type": "markdown",
   "metadata": {},
   "source": [
    "## List Contributors"
   ]
  },
  {
   "cell_type": "code",
   "execution_count": null,
   "metadata": {},
   "outputs": [],
   "source": [
    "listContris= requests.get('https://api.github.com/repos/'+finalList[0]+'/contributors',auth = ('elletsai', '0f5c16b728f522f5b19c17c8981b8b9d51619df3'))\n",
    "listContris_json = json.loads(listContris.text)\n",
    "listContris_json\n"
   ]
  },
  {
   "cell_type": "markdown",
   "metadata": {},
   "source": [
    "## Get the last Year of Commit Activity Data"
   ]
  },
  {
   "cell_type": "code",
   "execution_count": null,
   "metadata": {},
   "outputs": [],
   "source": [
    "listCommitAct= requests.get('https://api.github.com/repos/'+finalList[0]+'/stats/commit_activity',auth = ('elletsai', '0f5c16b728f522f5b19c17c8981b8b9d51619df3'))\n",
    "listCommitAct_json = json.loads(listCommitAct.text)\n",
    "listCommitAct_json\n"
   ]
  },
  {
   "cell_type": "markdown",
   "metadata": {},
   "source": [
    "## Get the # Additions and Deletions Per Week"
   ]
  },
  {
   "cell_type": "code",
   "execution_count": null,
   "metadata": {},
   "outputs": [],
   "source": [
    "listFreq= requests.get('https://api.github.com/repos/'+finalList[0]+'/stats/code_frequency',auth = ('elletsai', '0f5c16b728f522f5b19c17c8981b8b9d51619df3'))\n",
    "listFreq_json = json.loads(listFreq.text)\n",
    "listFreq_json\n"
   ]
  },
  {
   "cell_type": "markdown",
   "metadata": {},
   "source": [
    "## Get the Weekly Commit count for the repo owner and evertone else\n",
    "The array order is oldest week (index 0) to most recent week."
   ]
  },
  {
   "cell_type": "code",
   "execution_count": null,
   "metadata": {},
   "outputs": [],
   "source": [
    "listParti= requests.get('https://api.github.com/repos/'+finalList[0]+'/stats/participation',auth = ('elletsai', '0f5c16b728f522f5b19c17c8981b8b9d51619df3'))\n",
    "listParti_json = json.loads(listParti.text)\n",
    "listParti_json\n"
   ]
  },
  {
   "cell_type": "markdown",
   "metadata": {},
   "source": [
    "## Get the # commits per hour in each day\n",
    "Each array contains the day number, hour number, and number of commits:<br/>\n",
    "+ 0-6: Sunday - Saturday<br/>\n",
    "+ 0-23: Hour of day<br/>\n",
    "+ Number of commits<br/>\n",
    "\n",
    "For example, [2, 14, 25] indicates that there were 25 total \n",
    "commits, during the 2:00pm hour on Tuesdays. All times are based on the time zone of individual commits."
   ]
  },
  {
   "cell_type": "code",
   "execution_count": null,
   "metadata": {},
   "outputs": [],
   "source": [
    "listCommitsHr= requests.get('https://api.github.com/repos/'+finalList[0]+'/stats/punch_card',auth = ('elletsai', '0f5c16b728f522f5b19c17c8981b8b9d51619df3'))\n",
    "listCommitsHr_json = json.loads(listCommitsHr.text)\n",
    "listCommitsHr_json"
   ]
  },
  {
   "cell_type": "markdown",
   "metadata": {},
   "source": [
    "## List Status for a SPECIFIC ref\n",
    "!!!!!!!!!!!!!!!!!!!!"
   ]
  },
  {
   "cell_type": "code",
   "execution_count": null,
   "metadata": {},
   "outputs": [],
   "source": [
    "listStatus= requests.get('https://api.github.com/repos/'+finalList[0]+'/commits/8a1bbb764f7777d1b646e7c4123cac904861a363/statuses',auth = ('elletsai', '0f5c16b728f522f5b19c17c8981b8b9d51619df3'))\n",
    "listStatus_json = json.loads(listStatus.text)\n",
    "listStatus_json\n",
    "\n"
   ]
  },
  {
   "cell_type": "markdown",
   "metadata": {},
   "source": [
    "## TRAFFIC\n",
    "! For repositories that **you have push access to**, the traffic API provides access to the information provided in the graphs section.\n",
    "### List referrs"
   ]
  },
  {
   "cell_type": "code",
   "execution_count": null,
   "metadata": {},
   "outputs": [],
   "source": [
    "listReferrers= requests.get('https://api.github.com/repos/'+finalList[0]+'/traffic/popular/referrers',auth = ('elletsai', '0f5c16b728f522f5b19c17c8981b8b9d51619df3'))\n",
    "listReferres_json = json.loads(listReferrers.text)\n",
    "listReferres_json\n",
    "\n"
   ]
  },
  {
   "cell_type": "markdown",
   "metadata": {},
   "source": [
    "## List Paths"
   ]
  },
  {
   "cell_type": "code",
   "execution_count": null,
   "metadata": {},
   "outputs": [],
   "source": [
    "listPaths= requests.get('https://api.github.com/repos/'+finalList[0]+'/traffic/popular/paths',auth = ('elletsai', '0f5c16b728f522f5b19c17c8981b8b9d51619df3'))\n",
    "listPaths_json = json.loads(listPaths.text)\n",
    "listPaths_json"
   ]
  },
  {
   "cell_type": "markdown",
   "metadata": {},
   "source": [
    "## List Hooks "
   ]
  },
  {
   "cell_type": "code",
   "execution_count": null,
   "metadata": {},
   "outputs": [],
   "source": [
    "listHooks= requests.get('https://api.github.com/repos/'+finalList[0]+'/traffic/popular/paths',auth = ('elletsai', '0f5c16b728f522f5b19c17c8981b8b9d51619df3'))\n",
    "listHooks_json = json.loads(listHooks.text)\n",
    "listHooks_json\n"
   ]
  },
  {
   "cell_type": "markdown",
   "metadata": {},
   "source": [
    "## Use repo to get author info"
   ]
  },
  {
   "cell_type": "code",
   "execution_count": null,
   "metadata": {},
   "outputs": [],
   "source": [
    "author = final_list[0].split('/')[0]\n",
    "# get user info\n",
    "import requests\n",
    "result = requests.get('https://api.github.com/users/'+author)\n",
    "result = result.json()\n",
    "public = result['public_repos']\n",
    "\n",
    "# insert '' to None(null value)\n",
    "result = json.dumps(result).replace('null', '\"\"')\n",
    "result_parsed = json.loads(result)\n",
    "\n",
    "# write into csv\n",
    "import json\n",
    "import csv\n",
    "result_data = open('/Users/ellesmac/jupyter_notebook/result.csv','w')\n",
    "csvwriter = csv.writer(result_data)\n",
    "\n",
    "header = result_parsed.keys()\n",
    "csvwriter.writerow(header)\n",
    "    \n",
    "csvwriter.writerow(result_parsed.values())\n",
    "result_data.close()\n"
   ]
  },
  {
   "cell_type": "code",
   "execution_count": null,
   "metadata": {},
   "outputs": [],
   "source": [
    "# read csv and change index to login\n",
    "import pandas as pd\n",
    "df = pd.read_csv('/Users/ellesmac/jupyter_notebook/result.csv')\n",
    "df.set_index('login')"
   ]
  },
  {
   "cell_type": "code",
   "execution_count": null,
   "metadata": {},
   "outputs": [],
   "source": []
  }
 ],
 "metadata": {
  "kernelspec": {
   "display_name": "Python 3",
   "language": "python",
   "name": "python3"
  },
  "language_info": {
   "codemirror_mode": {
    "name": "ipython",
    "version": 3
   },
   "file_extension": ".py",
   "mimetype": "text/x-python",
   "name": "python",
   "nbconvert_exporter": "python",
   "pygments_lexer": "ipython3",
   "version": "3.7.1"
  }
 },
 "nbformat": 4,
 "nbformat_minor": 2
}
