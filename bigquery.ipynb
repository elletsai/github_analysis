{
 "cells": [
  {
   "cell_type": "markdown",
   "metadata": {},
   "source": [
    "### Data Selections\n",
    "- How do we make the baseline to decide which data we should exclude? \n",
    "- What is the conditions of selecting data\n",
    "- Mostly data are under 10 (forks count, stargazers...)\n",
    "\n",
    "\n",
    "### Big Query\n",
    "- We need to get the package that the code used, any specific kind of programming language?\n",
    "- How can we get the company financial report? \n",
    "- What company should we look for?\n",
    "- If the repo that big query contains do not have those repo that have high forks, what should we do?"
   ]
  },
  {
   "cell_type": "code",
   "execution_count": null,
   "metadata": {},
   "outputs": [],
   "source": [
    "import requests\n",
    "import time\n",
    "import json\n",
    "import pprint\n",
    "import pickle\n",
    "import pandas as pd\n",
    "import base64\n",
    "from datetime import datetime, timedelta\n",
    "import matplotlib.pyplot as plt\n",
    "import seaborn as sns\n",
    "import re\n",
    "import numpy as np"
   ]
  },
  {
   "cell_type": "markdown",
   "metadata": {},
   "source": [
    "### Get Big Query Data "
   ]
  },
  {
   "cell_type": "code",
   "execution_count": 2,
   "metadata": {},
   "outputs": [],
   "source": [
    "bq = pd.read_csv('bq-results-20191018-123202-zboc6qrkl2p8.csv')\n",
    "# sort bq by repo_name\n",
    "bq.sort_values('repo_name')\n",
    "\n",
    "finalList = set(bq['repo_name'])\n",
    "finalList = list(finalList)"
   ]
  },
  {
   "cell_type": "markdown",
   "metadata": {},
   "source": [
    "### Create dataframe "
   ]
  },
  {
   "cell_type": "code",
   "execution_count": 3,
   "metadata": {},
   "outputs": [],
   "source": [
    "colnames = ['repo_name', 'description', 'created_at', 'pushed_at', 'forks_count', 'stargazers_count',\n",
    "          'subscribers_count', 'open_issues_count', 'organization_name','topics','pulls_count', 'commits_count', 'branches_count',\n",
    "           'releases_count', 'contributors_count', 'last_commit_time', 'readme', 'language']\n",
    "\n",
    "deeplearning_df = pd.DataFrame(columns = colnames)  "
   ]
  },
  {
   "cell_type": "markdown",
   "metadata": {},
   "source": [
    "### Get more information using github API"
   ]
  },
  {
   "cell_type": "code",
   "execution_count": null,
   "metadata": {
    "scrolled": true
   },
   "outputs": [],
   "source": [
    "# -- save picle        \n",
    "filepath = 'DeepLearning_bq.pkl'\n",
    "\n",
    "def batch(repo_list):\n",
    "    \n",
    "    with open(filepath, 'ab') as f:\n",
    "        pickle.dump(repo_list, f)\n",
    "# ==== repo ==== \n",
    "\n",
    "for x in range(len(finalList)):\n",
    "    \n",
    "    page_commit = 1\n",
    "    commit = requests.get('http://api.github.com/repos/'+str(finalList[x])+'/commits?page='+str(page_commit)+'&per_page=100',auth = ('elletsai', '0f5c16b728f522f5b19c17c8981b8b9d51619df3'))\n",
    "    commit_json = json.loads(commit.text)\n",
    "    if (type(commit_json) is dict):\n",
    "        continue\n",
    "    else:\n",
    "        repoInfo = requests.get('http://api.github.com/repos/'+finalList[x] ,auth = ('hannahxchen', 'd03c1716e3015b04bb8e3f813bc04276c8e06ea3'))\n",
    "        repoInfo_json = json.loads(repoInfo.text)\n",
    "        repo_query_list = ['full_name', 'description', 'created_at', 'pushed_at', 'forks_count', 'stargazers_count',\n",
    "                  'subscribers_count', 'open_issues_count']\n",
    "\n",
    "        repo_tuple = tuple(repoInfo_json[x] for x in repo_query_list)\n",
    "\n",
    "        try: \n",
    "            login = repoInfo_json['organization']['login']\n",
    "\n",
    "        except KeyError:\n",
    "            login = 'None'\n",
    "\n",
    "        repo_tuple += (login,)\n",
    "\n",
    "        # === topic ==\n",
    "    headers = {\"Accept\":\"application/vnd.github.mercy-preview+json\"}\n",
    "    page_topic = 1\n",
    "    topic_list = []\n",
    "    while True:\n",
    "        topic = requests.get('http://api.github.com/repos/'+str(finalList[x])+'/topics?page='+str(page_topic)+'&per_page=100',auth = ('hannahxchen', 'd03c1716e3015b04bb8e3f813bc04276c8e06ea3'),headers = headers)\n",
    "        topic_json = json.loads(topic.text)\n",
    "\n",
    "        if len(topic_json['names']) == 0:\n",
    "            if page_topic is 1:\n",
    "                topic_list = ['None']\n",
    "                topic_list = ''.join(map(str, topic_list))            \n",
    "            break\n",
    "\n",
    "        topic_list += topic_json['names']\n",
    "        topic_list = ','.join(map(str, topic_list))\n",
    "        page_topic += 1\n",
    "\n",
    "\n",
    "    repo_tuple += tuple([topic_list],)\n",
    "    \n",
    "\n",
    "    \n",
    "    # === pull request ===\n",
    "\n",
    "    repo_name = 'NVIDIA/DIGITS'\n",
    "    page_pull = 1\n",
    "    pull_num = 0\n",
    "    pull_headers = {\"Accept\":\"application/vnd.github.shadow-cat-preview+json\"}\n",
    "    while True:\n",
    "        pull = requests.get('http://api.github.com/repos/'+str(finalList[x])+'/pulls?page='+str(page_pull)+'&per_page=100',auth = ('hannahxchen', 'd03c1716e3015b04bb8e3f813bc04276c8e06ea3'),headers = pull_headers)\n",
    "        pull_json = json.loads(pull.text)\n",
    "\n",
    "        if len(pull_json) == 0:\n",
    "            break\n",
    "        pull_num += len(pull_json)\n",
    "        page_pull += 1\n",
    "\n",
    "\n",
    "\n",
    "    repo_tuple += tuple([pull_num],)\n",
    "\n",
    "    \n",
    "    # === commits count ===\n",
    "    page_commit = 1\n",
    "    commit_num = 0\n",
    "    while True:\n",
    "        commit = requests.get('http://api.github.com/repos/'+str(finalList[x])+'/commits?page='+str(page_commit)+'&per_page=100',auth = ('hannahxchen', 'd03c1716e3015b04bb8e3f813bc04276c8e06ea3'))\n",
    "        commit_json = json.loads(commit.text)\n",
    "\n",
    "        if len(commit_json) == 0:\n",
    "            break\n",
    "        commit_num += len(commit_json)\n",
    "        page_commit += 1\n",
    "\n",
    "    repo_tuple += tuple([commit_num],)\n",
    "\n",
    "    \n",
    "    # === branch count ===\n",
    "    page_branch = 1\n",
    "    branch_num = 0\n",
    "    while True:\n",
    "        branch = requests.get('http://api.github.com/repos/'+str(finalList[x])+'/branches?page='+str(page_branch)+'&per_page=100',auth = ('hannahxchen', 'd03c1716e3015b04bb8e3f813bc04276c8e06ea3'))\n",
    "        branch_json = json.loads(branch.text)\n",
    "\n",
    "        if len(branch_json) == 0:\n",
    "            break\n",
    "        branch_num += len(branch_json)\n",
    "        page_branch += 1\n",
    "\n",
    "    repo_tuple += tuple([branch_num],)\n",
    "\n",
    "    \n",
    "    # === release count ===\n",
    "    page_release = 1\n",
    "    release_num = 0\n",
    "    while True:\n",
    "        release = requests.get('http://api.github.com/repos/'+str(finalList[x])+'/releases?page='+str(page_release)+'&per_page=100',auth = ('hannahxchen', 'd03c1716e3015b04bb8e3f813bc04276c8e06ea3'))\n",
    "        release_json = json.loads(release.text)\n",
    "\n",
    "        if len(release_json) == 0:\n",
    "            break\n",
    "        release_num += len(release_json)\n",
    "        page_release += 1\n",
    "\n",
    "    repo_tuple += tuple([release_num],)\n",
    "    repo_tuple\n",
    "\n",
    "\n",
    "    \n",
    "    # === contributors count ===\n",
    "    page_contributor = 1\n",
    "    contributor_num = 0\n",
    "    while True:\n",
    "        contributor = requests.get('http://api.github.com/repos/'+str(finalList[x])+'/contributors?page='+str(page_contributor)+'&per_page=100',auth = ('hannahxchen', 'd03c1716e3015b04bb8e3f813bc04276c8e06ea3'))\n",
    "        contributor_json = json.loads(contributor.text)\n",
    "\n",
    "        if len(contributor_json) == 0:\n",
    "            break\n",
    "        contributor_num += len(contributor_json)\n",
    "        page_contributor += 1\n",
    "\n",
    "    repo_tuple += tuple([contributor_num],)\n",
    "    \n",
    "\n",
    "    \n",
    "    # === most recent commit time ===\n",
    "\n",
    "    page_commit_time = 1\n",
    "\n",
    "    commit_time = requests.get('http://api.github.com/repos/'+str(finalList[x])+'/commits?page='+str(page_commit_time)+'&per_page=100',auth = ('hannahxchen', 'd03c1716e3015b04bb8e3f813bc04276c8e06ea3'))\n",
    "    commit_time_json = json.loads(commit_time.text)\n",
    "    commit_time = commit_time_json[0]['commit']['committer']['date']\n",
    "    repo_tuple += (commit_time,)\n",
    "\n",
    "    # === readme ===\n",
    "    try: \n",
    "        readme = requests.get('https://api.github.com/repos/'+finalList[x]+'/readme',auth = ('hannahxchen', 'd03c1716e3015b04bb8e3f813bc04276c8e06ea3'))\n",
    "        readme_json = json.loads(readme.text)\n",
    "        readme_content = base64.b64decode(readme_json['content'])\n",
    "\n",
    "    except KeyError:\n",
    "        readme_content = 'None'\n",
    "\n",
    "    repo_tuple += (readme_content,)\n",
    "\n",
    "\n",
    "    \n",
    "    # === language ====\n",
    "    page_lang = 1\n",
    "    lang_list = []\n",
    "\n",
    "\n",
    "    lang = requests.get('http://api.github.com/repos/'+str(finalList[x])+'/languages?page='+str(page_lang)+'&per_page=100',auth = ('hannahxchen', 'd03c1716e3015b04bb8e3f813bc04276c8e06ea3'),headers = headers)\n",
    "    lang_json = json.loads(lang.text)\n",
    "\n",
    "    lang_list = ','.join(map(str, lang_json.keys()))\n",
    "    page_lang += 1\n",
    "    repo_tuple += tuple([lang_list],)\n",
    "\n",
    "    \n",
    "    # === import to df =====\n",
    "\n",
    "    print(x)\n",
    "    batch(repo_tuple)\n",
    "\n",
    "    \n",
    "    # -- save to df\n",
    "    deeplearning_df = deeplearning_df.append(pd.Series(repo_tuple, index=deeplearning_df.columns ), ignore_index=True)\n",
    "    \n",
    "    \n",
    "    time.sleep(2)\n",
    "\n",
    "# save to csv\n",
    "deeplearning_df.to_csv('DeepLearning_bq.csv', sep = '\\t')"
   ]
  },
  {
   "cell_type": "markdown",
   "metadata": {},
   "source": [
    "## Get data from \"DeepLearning_bq.csv\""
   ]
  },
  {
   "cell_type": "code",
   "execution_count": 2,
   "metadata": {},
   "outputs": [
    {
     "data": {
      "text/html": [
       "<div>\n",
       "<style scoped>\n",
       "    .dataframe tbody tr th:only-of-type {\n",
       "        vertical-align: middle;\n",
       "    }\n",
       "\n",
       "    .dataframe tbody tr th {\n",
       "        vertical-align: top;\n",
       "    }\n",
       "\n",
       "    .dataframe thead th {\n",
       "        text-align: right;\n",
       "    }\n",
       "</style>\n",
       "<table border=\"1\" class=\"dataframe\">\n",
       "  <thead>\n",
       "    <tr style=\"text-align: right;\">\n",
       "      <th></th>\n",
       "      <th>repo_name</th>\n",
       "      <th>description</th>\n",
       "      <th>created_at</th>\n",
       "      <th>pushed_at</th>\n",
       "      <th>forks_count</th>\n",
       "      <th>stargazers_count</th>\n",
       "      <th>subscribers_count</th>\n",
       "      <th>open_issues_count</th>\n",
       "      <th>organization_name</th>\n",
       "      <th>topics</th>\n",
       "      <th>pulls_count</th>\n",
       "      <th>commits_count</th>\n",
       "      <th>branches_count</th>\n",
       "      <th>releases_count</th>\n",
       "      <th>contributors_count</th>\n",
       "      <th>last_commit_time</th>\n",
       "      <th>readme</th>\n",
       "      <th>language</th>\n",
       "    </tr>\n",
       "  </thead>\n",
       "  <tbody>\n",
       "    <tr>\n",
       "      <th>0</th>\n",
       "      <td>rafaeltg/pydl</td>\n",
       "      <td>Deep Learning algorithms implemented using Ker...</td>\n",
       "      <td>2016-07-24 17:29:21+00:00</td>\n",
       "      <td>2017-10-27 21:34:33+00:00</td>\n",
       "      <td>0</td>\n",
       "      <td>2</td>\n",
       "      <td>1</td>\n",
       "      <td>0</td>\n",
       "      <td>None</td>\n",
       "      <td>None</td>\n",
       "      <td>0</td>\n",
       "      <td>108</td>\n",
       "      <td>1</td>\n",
       "      <td>0</td>\n",
       "      <td>1</td>\n",
       "      <td>2017-10-27 21:34:24+00:00</td>\n",
       "      <td>b'# Deep Learning algorithms with Keras librar...</td>\n",
       "      <td>Python</td>\n",
       "    </tr>\n",
       "    <tr>\n",
       "      <th>1</th>\n",
       "      <td>zchq88/MyUdacityDeepLearningProject</td>\n",
       "      <td>My Udacity Deep Learning Project</td>\n",
       "      <td>2017-01-31 02:43:41+00:00</td>\n",
       "      <td>2017-05-16 08:41:24+00:00</td>\n",
       "      <td>0</td>\n",
       "      <td>0</td>\n",
       "      <td>1</td>\n",
       "      <td>0</td>\n",
       "      <td>None</td>\n",
       "      <td>None</td>\n",
       "      <td>0</td>\n",
       "      <td>20</td>\n",
       "      <td>1</td>\n",
       "      <td>0</td>\n",
       "      <td>1</td>\n",
       "      <td>2017-05-16 08:40:25+00:00</td>\n",
       "      <td>None</td>\n",
       "      <td>HTML,Jupyter Notebook,Python</td>\n",
       "    </tr>\n",
       "    <tr>\n",
       "      <th>2</th>\n",
       "      <td>fablln/Deep-Learning</td>\n",
       "      <td>Repository containing the laboratories of the ...</td>\n",
       "      <td>2017-03-30 22:01:29+00:00</td>\n",
       "      <td>2017-06-05 09:31:49+00:00</td>\n",
       "      <td>0</td>\n",
       "      <td>0</td>\n",
       "      <td>1</td>\n",
       "      <td>0</td>\n",
       "      <td>None</td>\n",
       "      <td>neural-network,deep-learning,deep-neural-netwo...</td>\n",
       "      <td>0</td>\n",
       "      <td>11</td>\n",
       "      <td>1</td>\n",
       "      <td>0</td>\n",
       "      <td>1</td>\n",
       "      <td>2017-06-05 09:31:42+00:00</td>\n",
       "      <td>b'# Deep-Learning\\nRepository containing the l...</td>\n",
       "      <td>Jupyter Notebook,HTML,Python</td>\n",
       "    </tr>\n",
       "  </tbody>\n",
       "</table>\n",
       "</div>"
      ],
      "text/plain": [
       "                             repo_name  \\\n",
       "0                        rafaeltg/pydl   \n",
       "1  zchq88/MyUdacityDeepLearningProject   \n",
       "2                 fablln/Deep-Learning   \n",
       "\n",
       "                                         description  \\\n",
       "0  Deep Learning algorithms implemented using Ker...   \n",
       "1                   My Udacity Deep Learning Project   \n",
       "2  Repository containing the laboratories of the ...   \n",
       "\n",
       "                  created_at                  pushed_at  forks_count  \\\n",
       "0  2016-07-24 17:29:21+00:00  2017-10-27 21:34:33+00:00            0   \n",
       "1  2017-01-31 02:43:41+00:00  2017-05-16 08:41:24+00:00            0   \n",
       "2  2017-03-30 22:01:29+00:00  2017-06-05 09:31:49+00:00            0   \n",
       "\n",
       "   stargazers_count  subscribers_count  open_issues_count organization_name  \\\n",
       "0                 2                  1                  0              None   \n",
       "1                 0                  1                  0              None   \n",
       "2                 0                  1                  0              None   \n",
       "\n",
       "                                              topics  pulls_count  \\\n",
       "0                                               None            0   \n",
       "1                                               None            0   \n",
       "2  neural-network,deep-learning,deep-neural-netwo...            0   \n",
       "\n",
       "   commits_count  branches_count  releases_count  contributors_count  \\\n",
       "0            108               1               0                   1   \n",
       "1             20               1               0                   1   \n",
       "2             11               1               0                   1   \n",
       "\n",
       "            last_commit_time  \\\n",
       "0  2017-10-27 21:34:24+00:00   \n",
       "1  2017-05-16 08:40:25+00:00   \n",
       "2  2017-06-05 09:31:42+00:00   \n",
       "\n",
       "                                              readme  \\\n",
       "0  b'# Deep Learning algorithms with Keras librar...   \n",
       "1                                               None   \n",
       "2  b'# Deep-Learning\\nRepository containing the l...   \n",
       "\n",
       "                       language  \n",
       "0                        Python  \n",
       "1  HTML,Jupyter Notebook,Python  \n",
       "2  Jupyter Notebook,HTML,Python  "
      ]
     },
     "execution_count": 2,
     "metadata": {},
     "output_type": "execute_result"
    }
   ],
   "source": [
    "deeplearning_df = pd.read_csv('DeepLearning_bq.csv', sep = '\\t').drop(columns = ['Unnamed: 0'])\n",
    "deeplearning_df.head(3)"
   ]
  },
  {
   "cell_type": "code",
   "execution_count": 3,
   "metadata": {
    "scrolled": true
   },
   "outputs": [
    {
     "data": {
      "text/html": [
       "<div>\n",
       "<style scoped>\n",
       "    .dataframe tbody tr th:only-of-type {\n",
       "        vertical-align: middle;\n",
       "    }\n",
       "\n",
       "    .dataframe tbody tr th {\n",
       "        vertical-align: top;\n",
       "    }\n",
       "\n",
       "    .dataframe thead th {\n",
       "        text-align: right;\n",
       "    }\n",
       "</style>\n",
       "<table border=\"1\" class=\"dataframe\">\n",
       "  <thead>\n",
       "    <tr style=\"text-align: right;\">\n",
       "      <th></th>\n",
       "      <th>forks_count</th>\n",
       "      <th>stargazers_count</th>\n",
       "      <th>subscribers_count</th>\n",
       "      <th>open_issues_count</th>\n",
       "      <th>pulls_count</th>\n",
       "      <th>commits_count</th>\n",
       "      <th>branches_count</th>\n",
       "      <th>releases_count</th>\n",
       "      <th>contributors_count</th>\n",
       "    </tr>\n",
       "  </thead>\n",
       "  <tbody>\n",
       "    <tr>\n",
       "      <th>0</th>\n",
       "      <td>0</td>\n",
       "      <td>2</td>\n",
       "      <td>1</td>\n",
       "      <td>0</td>\n",
       "      <td>0</td>\n",
       "      <td>108</td>\n",
       "      <td>1</td>\n",
       "      <td>0</td>\n",
       "      <td>1</td>\n",
       "    </tr>\n",
       "    <tr>\n",
       "      <th>1</th>\n",
       "      <td>0</td>\n",
       "      <td>0</td>\n",
       "      <td>1</td>\n",
       "      <td>0</td>\n",
       "      <td>0</td>\n",
       "      <td>20</td>\n",
       "      <td>1</td>\n",
       "      <td>0</td>\n",
       "      <td>1</td>\n",
       "    </tr>\n",
       "    <tr>\n",
       "      <th>2</th>\n",
       "      <td>0</td>\n",
       "      <td>0</td>\n",
       "      <td>1</td>\n",
       "      <td>0</td>\n",
       "      <td>0</td>\n",
       "      <td>11</td>\n",
       "      <td>1</td>\n",
       "      <td>0</td>\n",
       "      <td>1</td>\n",
       "    </tr>\n",
       "  </tbody>\n",
       "</table>\n",
       "</div>"
      ],
      "text/plain": [
       "   forks_count  stargazers_count  subscribers_count  open_issues_count  \\\n",
       "0            0                 2                  1                  0   \n",
       "1            0                 0                  1                  0   \n",
       "2            0                 0                  1                  0   \n",
       "\n",
       "   pulls_count  commits_count  branches_count  releases_count  \\\n",
       "0            0            108               1               0   \n",
       "1            0             20               1               0   \n",
       "2            0             11               1               0   \n",
       "\n",
       "   contributors_count  \n",
       "0                   1  \n",
       "1                   1  \n",
       "2                   1  "
      ]
     },
     "execution_count": 3,
     "metadata": {},
     "output_type": "execute_result"
    }
   ],
   "source": [
    "deep_num = deeplearning_df.iloc[:, [4, 5, 6, 7, 10, 11, 12,13, 14]]\n",
    "deep_num.head(3)"
   ]
  },
  {
   "cell_type": "markdown",
   "metadata": {},
   "source": [
    "## Data Visualization"
   ]
  },
  {
   "cell_type": "markdown",
   "metadata": {},
   "source": [
    "### Frequencies Count\n",
    "- fork, stargazers, subscribers bigger the more influential the repo is"
   ]
  },
  {
   "cell_type": "code",
   "execution_count": 25,
   "metadata": {},
   "outputs": [
    {
     "data": {
      "image/png": "[encoded data removed]",
      "text/plain": [
       "<Figure size 1440x2016 with 8 Axes>"
      ]
     },
     "metadata": {},
     "output_type": "display_data"
    }
   ],
   "source": [
    "sns.set(style=\"darkgrid\")\n",
    "a_dims = (20, 28)\n",
    "fig, ((ax1, ax2), (ax3, ax4),\n",
    "      (ax5, ax6), (ax7, ax8)) = plt.subplots(figsize=a_dims,\n",
    "                                         ncols=2,\n",
    "                                         nrows = 4, \n",
    "                                         sharey=True)\n",
    "                                         \n",
    "\n",
    "# -- Graph\n",
    "sns.set(style=\"darkgrid\")\n",
    "a1 = sns.countplot(x= \"forks_count\", data=deeplearning_df, color = 'blue', ax = ax1)\n",
    "a2 = sns.countplot(x= \"stargazers_count\", data=deeplearning_df, color = 'blue', ax = ax2)\n",
    "a3 = sns.countplot(x= \"subscribers_count\", data=deeplearning_df, color = 'blue',ax = ax3)\n",
    "a4 = sns.countplot(x= \"open_issues_count\", data=deeplearning_df, color = 'blue', ax = ax4)\n",
    "a5 = sns.countplot(x= \"pulls_count\", data=deeplearning_df, color = 'blue', ax = ax5)\n",
    "a6 = sns.countplot(x= \"contributors_count\", data=deeplearning_df, color = 'blue', ax = ax6)\n",
    "a7 = sns.countplot(x= \"branches_count\", data=deeplearning_df, color = 'blue', ax = ax7)\n",
    "a8 = sns.countplot(x= \"releases_count\", data=deeplearning_df, color = 'blue', ax = ax8)\n",
    "\n",
    "titles = ['Forks Frequency Count', 'Stargazers Frequency Count', 'Subscribers Frequency Count','Open Issue Frequency Count',\n",
    "        'Pulls Count Frequency', 'Contributors Frequency Count', 'Branches Frequency Count','Releases Frequency Count']\n",
    "\n",
    "a = [a1, a2, a3, a4, a5, a6, a7, a8]\n",
    "\n",
    "# -- set title to each subplot\n",
    "for (ai, title) in zip(a,titles):\n",
    "    \n",
    "    ai.set_title(title, fontsize = 18, fontweight = 'bold')\n"
   ]
  },
  {
   "cell_type": "markdown",
   "metadata": {},
   "source": [
    "### Commit Count"
   ]
  },
  {
   "cell_type": "code",
   "execution_count": 448,
   "metadata": {},
   "outputs": [
    {
     "data": {
      "text/plain": [
       "Text(0.5, 1.0, 'Commit Frequency Count')"
      ]
     },
     "execution_count": 448,
     "metadata": {},
     "output_type": "execute_result"
    },
    {
     "data": {
      "image/png": "[encoded data removed]",
      "text/plain": [
       "<Figure size 1440x576 with 1 Axes>"
      ]
     },
     "metadata": {},
     "output_type": "display_data"
    }
   ],
   "source": [
    "a4_dims = (20, 8)\n",
    "fig, ax = plt.subplots(figsize=a4_dims)\n",
    "sns.set(style=\"darkgrid\")\n",
    "\n",
    "ax = sns.countplot(x= \"commits_count\", data=deeplearning_df, color = 'blue')\n",
    "ax.set_title('Commit Frequency Count', fontsize = 18, fontweight = 'bold')"
   ]
  },
  {
   "cell_type": "markdown",
   "metadata": {},
   "source": [
    "### See which year has more repo pushed"
   ]
  },
  {
   "cell_type": "code",
   "execution_count": 321,
   "metadata": {},
   "outputs": [
    {
     "data": {
      "text/plain": [
       "<matplotlib.legend.Legend at 0x150789518>"
      ]
     },
     "execution_count": 321,
     "metadata": {},
     "output_type": "execute_result"
    },
    {
     "data": {
      "image/png": "[encoded data removed]",
      "text/plain": [
       "<Figure size 432x288 with 1 Axes>"
      ]
     },
     "metadata": {},
     "output_type": "display_data"
    }
   ],
   "source": [
    "# covert column to date time\n",
    "deeplearning_df[[\"created_at\", \"pushed_at\", \"last_commit_time\"]] = deeplearning_df[[\"created_at\", \"pushed_at\", \"last_commit_time\"]].apply(pd.to_datetime)\n",
    "\n",
    "# see which year has more people pushed deep learning repo\n",
    "push_year = deeplearning_df['pushed_at'].dt.year\n",
    "last_commit_time = deeplearning_df['last_commit_time'].dt.year\n",
    "plt.hist([push_year, last_commit_time], color=['r','b'], alpha=1, label = ('pushed year', 'last commit time'))\n",
    "plt.xlabel('year') \n",
    "plt.ylabel('frequency')\n",
    "plt.legend()"
   ]
  },
  {
   "cell_type": "markdown",
   "metadata": {},
   "source": [
    "- There were very little of the porportion that pushed the repo in 2013. Therefore, we can drop the repo that was pushed that year<br>\n",
    "- Repo is published after pushed, therefore neglect created time"
   ]
  },
  {
   "cell_type": "markdown",
   "metadata": {},
   "source": [
    "### What language that most people used for deep learning?"
   ]
  },
  {
   "cell_type": "code",
   "execution_count": 41,
   "metadata": {},
   "outputs": [],
   "source": [
    "language_list = list(deeplearning_df['language'])\n",
    "language = str(language_list)"
   ]
  },
  {
   "cell_type": "code",
   "execution_count": 287,
   "metadata": {},
   "outputs": [
    {
     "data": {
      "text/plain": [
       "[('Python', 156),\n",
       " ('Jupyter', 75),\n",
       " ('Notebook', 75),\n",
       " ('Shell', 50),\n",
       " ('HTML', 38),\n",
       " ('C', 38),\n",
       " ('MATLAB', 14),\n",
       " ('JavaScript', 12),\n",
       " ('CSS', 12),\n",
       " ('Makefile', 11)]"
      ]
     },
     "execution_count": 287,
     "metadata": {},
     "output_type": "execute_result"
    }
   ],
   "source": [
    "# remove symbols in string\n",
    "import re\n",
    "l = re.sub(r'[^\\w]', ' ', language)\n",
    "\n",
    "# calculate each language frequency count\n",
    "from collections import Counter\n",
    "\n",
    "# see top 10 frequent language\n",
    "Counter(l.split()).most_common(10)"
   ]
  },
  {
   "cell_type": "markdown",
   "metadata": {},
   "source": [
    "## See Repo Content"
   ]
  },
  {
   "cell_type": "code",
   "execution_count": 30,
   "metadata": {},
   "outputs": [
    {
     "data": {
      "text/plain": [
       "7"
      ]
     },
     "execution_count": 30,
     "metadata": {},
     "output_type": "execute_result"
    }
   ],
   "source": [
    "# count how many times do this file import package\n",
    "bq = ['content'][0].count('import')"
   ]
  },
  {
   "cell_type": "code",
   "execution_count": 4,
   "metadata": {
    "scrolled": true
   },
   "outputs": [
    {
     "name": "stdout",
     "output_type": "stream",
     "text": [
      "*** Introductory Examples for the NLTK Book ***\n",
      "Loading text1, ..., text9 and sent1, ..., sent9\n",
      "Type the name of the text or sentence to view it.\n",
      "Type: 'texts()' or 'sents()' to list the materials.\n",
      "text1: Moby Dick by Herman Melville 1851\n",
      "text2: Sense and Sensibility by Jane Austen 1811\n",
      "text3: The Book of Genesis\n",
      "text4: Inaugural Address Corpus\n",
      "text5: Chat Corpus\n",
      "text6: Monty Python and the Holy Grail\n",
      "text7: Wall Street Journal\n",
      "text8: Personals Corpus\n",
      "text9: The Man Who Was Thursday by G . K . Chesterton 1908\n"
     ]
    }
   ],
   "source": [
    "import nltk\n",
    "from nltk.book import *"
   ]
  },
  {
   "cell_type": "markdown",
   "metadata": {},
   "source": [
    "### See occurance using NLTK"
   ]
  },
  {
   "cell_type": "code",
   "execution_count": 112,
   "metadata": {},
   "outputs": [
    {
     "name": "stdout",
     "output_type": "stream",
     "text": [
      "Displaying 4 of 4 matches:\n",
      ": [], \"source\": [ \"from collections import Counter\\n\", \"import numpy as np\" ] \n",
      ", \"source\": [ \"from IPython.display import Image\\n\", \"\\n\", \"review = \\\"This wa\n",
      ", \"source\": [ \"from IPython.display import Image\\n\", \"Image(filename='sentimen\n",
      ", \"source\": [ \"from IPython.display import Image\\n\", \"Image(filename='sentimen\n"
     ]
    }
   ],
   "source": [
    "t = nltk.tokenize.WhitespaceTokenizer()\n",
    "c = Text(t.tokenize(bq['content'][16]))\n",
    "c.concordance(u'import')\n"
   ]
  },
  {
   "cell_type": "markdown",
   "metadata": {},
   "source": [
    "### Get package ( search for word after import)"
   ]
  },
  {
   "cell_type": "code",
   "execution_count": 92,
   "metadata": {},
   "outputs": [],
   "source": [
    "import re\n",
    "s = bq['content'][3]\n",
    "q = 'import'\n",
    "\n",
    "\n",
    "def get_package(data):\n",
    "    package_index = [m.start() for m in re.finditer('import', data)]\n",
    "    return [data[p+len(q):].split()[0] for p in package_index]"
   ]
  },
  {
   "cell_type": "code",
   "execution_count": 115,
   "metadata": {},
   "outputs": [
    {
     "data": {
      "text/plain": [
       "['Counter\\\\n\",',\n",
       " 'numpy',\n",
       " \"ant',\",\n",
       " \"ance',\",\n",
       " 'Image\\\\n\",',\n",
       " 'numpy',\n",
       " 'Image\\\\n\",',\n",
       " 'time\\\\n\",',\n",
       " 'sys\\\\n\",',\n",
       " 'numpy',\n",
       " 'Image\\\\n\",',\n",
       " 'time\\\\n\",',\n",
       " 'sys\\\\n\",',\n",
       " 'numpy']"
      ]
     },
     "execution_count": 115,
     "metadata": {},
     "output_type": "execute_result"
    }
   ],
   "source": [
    "get_package(bq['content'][16])"
   ]
  },
  {
   "cell_type": "markdown",
   "metadata": {},
   "source": [
    "## Read dl_infor from all data scrape for deep learning\n",
    "'deep learning' and 'dl'"
   ]
  },
  {
   "cell_type": "code",
   "execution_count": 68,
   "metadata": {},
   "outputs": [
    {
     "data": {
      "text/html": [
       "<div>\n",
       "<style scoped>\n",
       "    .dataframe tbody tr th:only-of-type {\n",
       "        vertical-align: middle;\n",
       "    }\n",
       "\n",
       "    .dataframe tbody tr th {\n",
       "        vertical-align: top;\n",
       "    }\n",
       "\n",
       "    .dataframe thead th {\n",
       "        text-align: right;\n",
       "    }\n",
       "</style>\n",
       "<table border=\"1\" class=\"dataframe\">\n",
       "  <thead>\n",
       "    <tr style=\"text-align: right;\">\n",
       "      <th></th>\n",
       "      <th>repo_name</th>\n",
       "      <th>description</th>\n",
       "      <th>created_at</th>\n",
       "      <th>pushed_at</th>\n",
       "      <th>forks_count</th>\n",
       "      <th>stargazers_count</th>\n",
       "      <th>subscribers_count</th>\n",
       "      <th>open_issues_count</th>\n",
       "      <th>organization_name</th>\n",
       "      <th>topics</th>\n",
       "      <th>pulls_count</th>\n",
       "      <th>commits_count</th>\n",
       "      <th>branches_count</th>\n",
       "      <th>releases_count</th>\n",
       "      <th>contributors_count</th>\n",
       "      <th>last_commit_time</th>\n",
       "      <th>readme</th>\n",
       "      <th>language</th>\n",
       "    </tr>\n",
       "  </thead>\n",
       "  <tbody>\n",
       "    <tr>\n",
       "      <th>31546</th>\n",
       "      <td>VSainteuf/deep-lecture</td>\n",
       "      <td>Materials for lecture on deep learning</td>\n",
       "      <td>2019-03-11T09:36:26Z</td>\n",
       "      <td>2019-03-11T17:43:09Z</td>\n",
       "      <td>0</td>\n",
       "      <td>0</td>\n",
       "      <td>0</td>\n",
       "      <td>0</td>\n",
       "      <td>None</td>\n",
       "      <td>None</td>\n",
       "      <td>0</td>\n",
       "      <td>2</td>\n",
       "      <td>1</td>\n",
       "      <td>0</td>\n",
       "      <td>1</td>\n",
       "      <td>2019-03-11T19:41:54Z</td>\n",
       "      <td>None</td>\n",
       "      <td>Jupyter Notebook</td>\n",
       "    </tr>\n",
       "    <tr>\n",
       "      <th>31547</th>\n",
       "      <td>jnpalmstrom/cs4518FinalProject</td>\n",
       "      <td>Mobile Final Project revolving around deep-lea...</td>\n",
       "      <td>2018-11-30T18:43:31Z</td>\n",
       "      <td>2018-12-13T18:11:38Z</td>\n",
       "      <td>0</td>\n",
       "      <td>0</td>\n",
       "      <td>1</td>\n",
       "      <td>0</td>\n",
       "      <td>None</td>\n",
       "      <td>None</td>\n",
       "      <td>0</td>\n",
       "      <td>16</td>\n",
       "      <td>2</td>\n",
       "      <td>0</td>\n",
       "      <td>2</td>\n",
       "      <td>2018-12-13T18:11:25Z</td>\n",
       "      <td>b'# cs4518FinalProject\\nMobile Final Project r...</td>\n",
       "      <td>Java</td>\n",
       "    </tr>\n",
       "    <tr>\n",
       "      <th>31548</th>\n",
       "      <td>gooselinux/mingw32-dlfcn</td>\n",
       "      <td>Implements a wrapper for dlfcn (dlopen dlclose...</td>\n",
       "      <td>2011-12-28T02:21:56Z</td>\n",
       "      <td>2012-05-01T06:37:51Z</td>\n",
       "      <td>0</td>\n",
       "      <td>1</td>\n",
       "      <td>5</td>\n",
       "      <td>0</td>\n",
       "      <td>gooselinux</td>\n",
       "      <td>None</td>\n",
       "      <td>0</td>\n",
       "      <td>1</td>\n",
       "      <td>1</td>\n",
       "      <td>0</td>\n",
       "      <td>1</td>\n",
       "      <td>2012-05-01T06:37:47Z</td>\n",
       "      <td>None</td>\n",
       "      <td></td>\n",
       "    </tr>\n",
       "  </tbody>\n",
       "</table>\n",
       "</div>"
      ],
      "text/plain": [
       "                            repo_name  \\\n",
       "31546          VSainteuf/deep-lecture   \n",
       "31547  jnpalmstrom/cs4518FinalProject   \n",
       "31548        gooselinux/mingw32-dlfcn   \n",
       "\n",
       "                                             description  \\\n",
       "31546             Materials for lecture on deep learning   \n",
       "31547  Mobile Final Project revolving around deep-lea...   \n",
       "31548  Implements a wrapper for dlfcn (dlopen dlclose...   \n",
       "\n",
       "                 created_at             pushed_at  forks_count  \\\n",
       "31546  2019-03-11T09:36:26Z  2019-03-11T17:43:09Z            0   \n",
       "31547  2018-11-30T18:43:31Z  2018-12-13T18:11:38Z            0   \n",
       "31548  2011-12-28T02:21:56Z  2012-05-01T06:37:51Z            0   \n",
       "\n",
       "       stargazers_count  subscribers_count  open_issues_count  \\\n",
       "31546                 0                  0                  0   \n",
       "31547                 0                  1                  0   \n",
       "31548                 1                  5                  0   \n",
       "\n",
       "      organization_name topics  pulls_count  commits_count  branches_count  \\\n",
       "31546              None   None            0              2               1   \n",
       "31547              None   None            0             16               2   \n",
       "31548        gooselinux   None            0              1               1   \n",
       "\n",
       "       releases_count  contributors_count      last_commit_time  \\\n",
       "31546               0                   1  2019-03-11T19:41:54Z   \n",
       "31547               0                   2  2018-12-13T18:11:25Z   \n",
       "31548               0                   1  2012-05-01T06:37:47Z   \n",
       "\n",
       "                                                  readme          language  \n",
       "31546                                               None  Jupyter Notebook  \n",
       "31547  b'# cs4518FinalProject\\nMobile Final Project r...              Java  \n",
       "31548                                               None                    "
      ]
     },
     "execution_count": 68,
     "metadata": {},
     "output_type": "execute_result"
    }
   ],
   "source": [
    "import pickle\n",
    "import pandas as pd\n",
    "data = []\n",
    "with open('dl_info.pkl', 'rb') as fr:\n",
    "    try:\n",
    "        while True:\n",
    "            data.append(pickle.load(fr))\n",
    "    except EOFError:\n",
    "        pass\n",
    "dl_info = pd.DataFrame(data,columns=colnames)\n",
    "dl_info.tail(3)\n",
    "\n"
   ]
  },
  {
   "cell_type": "code",
   "execution_count": 144,
   "metadata": {
    "scrolled": true
   },
   "outputs": [
    {
     "data": {
      "text/html": [
       "<div>\n",
       "<style scoped>\n",
       "    .dataframe tbody tr th:only-of-type {\n",
       "        vertical-align: middle;\n",
       "    }\n",
       "\n",
       "    .dataframe tbody tr th {\n",
       "        vertical-align: top;\n",
       "    }\n",
       "\n",
       "    .dataframe thead th {\n",
       "        text-align: right;\n",
       "    }\n",
       "</style>\n",
       "<table border=\"1\" class=\"dataframe\">\n",
       "  <thead>\n",
       "    <tr style=\"text-align: right;\">\n",
       "      <th></th>\n",
       "      <th>forks_count</th>\n",
       "      <th>stargazers_count</th>\n",
       "      <th>subscribers_count</th>\n",
       "      <th>open_issues_count</th>\n",
       "      <th>pulls_count</th>\n",
       "      <th>commits_count</th>\n",
       "      <th>branches_count</th>\n",
       "      <th>releases_count</th>\n",
       "      <th>contributors_count</th>\n",
       "    </tr>\n",
       "  </thead>\n",
       "  <tbody>\n",
       "    <tr>\n",
       "      <th>count</th>\n",
       "      <td>31549.000000</td>\n",
       "      <td>31549.000000</td>\n",
       "      <td>31549.000000</td>\n",
       "      <td>31549.000000</td>\n",
       "      <td>31549.000000</td>\n",
       "      <td>31549.000000</td>\n",
       "      <td>31549.000000</td>\n",
       "      <td>31549.000000</td>\n",
       "      <td>31549.000000</td>\n",
       "    </tr>\n",
       "    <tr>\n",
       "      <th>mean</th>\n",
       "      <td>5.385464</td>\n",
       "      <td>17.156677</td>\n",
       "      <td>2.155155</td>\n",
       "      <td>0.527434</td>\n",
       "      <td>0.089004</td>\n",
       "      <td>56.255476</td>\n",
       "      <td>1.263875</td>\n",
       "      <td>0.088719</td>\n",
       "      <td>1.740943</td>\n",
       "    </tr>\n",
       "    <tr>\n",
       "      <th>std</th>\n",
       "      <td>128.700936</td>\n",
       "      <td>478.690105</td>\n",
       "      <td>29.276528</td>\n",
       "      <td>18.848240</td>\n",
       "      <td>3.385665</td>\n",
       "      <td>2668.792288</td>\n",
       "      <td>1.929007</td>\n",
       "      <td>2.050682</td>\n",
       "      <td>10.883132</td>\n",
       "    </tr>\n",
       "    <tr>\n",
       "      <th>min</th>\n",
       "      <td>0.000000</td>\n",
       "      <td>0.000000</td>\n",
       "      <td>0.000000</td>\n",
       "      <td>0.000000</td>\n",
       "      <td>0.000000</td>\n",
       "      <td>1.000000</td>\n",
       "      <td>1.000000</td>\n",
       "      <td>0.000000</td>\n",
       "      <td>0.000000</td>\n",
       "    </tr>\n",
       "    <tr>\n",
       "      <th>25%</th>\n",
       "      <td>0.000000</td>\n",
       "      <td>0.000000</td>\n",
       "      <td>0.000000</td>\n",
       "      <td>0.000000</td>\n",
       "      <td>0.000000</td>\n",
       "      <td>2.000000</td>\n",
       "      <td>1.000000</td>\n",
       "      <td>0.000000</td>\n",
       "      <td>1.000000</td>\n",
       "    </tr>\n",
       "    <tr>\n",
       "      <th>50%</th>\n",
       "      <td>0.000000</td>\n",
       "      <td>0.000000</td>\n",
       "      <td>1.000000</td>\n",
       "      <td>0.000000</td>\n",
       "      <td>0.000000</td>\n",
       "      <td>6.000000</td>\n",
       "      <td>1.000000</td>\n",
       "      <td>0.000000</td>\n",
       "      <td>1.000000</td>\n",
       "    </tr>\n",
       "    <tr>\n",
       "      <th>75%</th>\n",
       "      <td>0.000000</td>\n",
       "      <td>0.000000</td>\n",
       "      <td>1.000000</td>\n",
       "      <td>0.000000</td>\n",
       "      <td>0.000000</td>\n",
       "      <td>16.000000</td>\n",
       "      <td>1.000000</td>\n",
       "      <td>0.000000</td>\n",
       "      <td>1.000000</td>\n",
       "    </tr>\n",
       "    <tr>\n",
       "      <th>max</th>\n",
       "      <td>10488.000000</td>\n",
       "      <td>57182.000000</td>\n",
       "      <td>2342.000000</td>\n",
       "      <td>3094.000000</td>\n",
       "      <td>542.000000</td>\n",
       "      <td>461470.000000</td>\n",
       "      <td>134.000000</td>\n",
       "      <td>279.000000</td>\n",
       "      <td>436.000000</td>\n",
       "    </tr>\n",
       "  </tbody>\n",
       "</table>\n",
       "</div>"
      ],
      "text/plain": [
       "        forks_count  stargazers_count  subscribers_count  open_issues_count  \\\n",
       "count  31549.000000      31549.000000       31549.000000       31549.000000   \n",
       "mean       5.385464         17.156677           2.155155           0.527434   \n",
       "std      128.700936        478.690105          29.276528          18.848240   \n",
       "min        0.000000          0.000000           0.000000           0.000000   \n",
       "25%        0.000000          0.000000           0.000000           0.000000   \n",
       "50%        0.000000          0.000000           1.000000           0.000000   \n",
       "75%        0.000000          0.000000           1.000000           0.000000   \n",
       "max    10488.000000      57182.000000        2342.000000        3094.000000   \n",
       "\n",
       "        pulls_count  commits_count  branches_count  releases_count  \\\n",
       "count  31549.000000   31549.000000    31549.000000    31549.000000   \n",
       "mean       0.089004      56.255476        1.263875        0.088719   \n",
       "std        3.385665    2668.792288        1.929007        2.050682   \n",
       "min        0.000000       1.000000        1.000000        0.000000   \n",
       "25%        0.000000       2.000000        1.000000        0.000000   \n",
       "50%        0.000000       6.000000        1.000000        0.000000   \n",
       "75%        0.000000      16.000000        1.000000        0.000000   \n",
       "max      542.000000  461470.000000      134.000000      279.000000   \n",
       "\n",
       "       contributors_count  \n",
       "count        31549.000000  \n",
       "mean             1.740943  \n",
       "std             10.883132  \n",
       "min              0.000000  \n",
       "25%              1.000000  \n",
       "50%              1.000000  \n",
       "75%              1.000000  \n",
       "max            436.000000  "
      ]
     },
     "execution_count": 144,
     "metadata": {},
     "output_type": "execute_result"
    }
   ],
   "source": [
    "dl_info_num = dl_info.iloc[:, [4, 5, 6, 7, 10, 11, 12,13, 14]]\n",
    "dl_info_num.describe()"
   ]
  },
  {
   "cell_type": "code",
   "execution_count": 186,
   "metadata": {},
   "outputs": [
    {
     "name": "stdout",
     "output_type": "stream",
     "text": [
      "forks > 100:  202\n",
      "stargazers > 100:  396\n",
      "subscribers > 100:  79\n",
      "open_issues > 100:  17\n",
      "pulls > 100:  2\n",
      "commits > 100:  1383\n",
      "branches > 100:  3\n",
      "releases > 100:  2\n",
      "contributors > 100:  47\n"
     ]
    }
   ],
   "source": [
    "print('forks > 100: ',len(dl_info[dl_info['forks_count'] > 100]))\n",
    "print('stargazers > 100: ', len(dl_info[dl_info['stargazers_count'] > 100]))\n",
    "print('subscribers > 100: ', len(dl_info[dl_info['subscribers_count'] > 100]))\n",
    "print('open_issues > 100: ', len(dl_info[dl_info['open_issues_count'] > 100]))\n",
    "print('pulls > 100: ', len(dl_info[dl_info['pulls_count'] > 100]))\n",
    "print('commits > 100: ', len(dl_info[dl_info['commits_count'] > 100]))\n",
    "print('branches > 100: ', len(dl_info[dl_info['branches_count'] > 100]))\n",
    "print('releases > 100: ', len(dl_info[dl_info['releases_count'] > 100]))\n",
    "print('contributors > 100: ', len(dl_info[dl_info['contributors_count'] > 100]))\n",
    "\n",
    "\n"
   ]
  },
  {
   "cell_type": "markdown",
   "metadata": {},
   "source": [
    "- If subscribers > 100, then the number of stargazers of that repo is also greater than 100"
   ]
  },
  {
   "cell_type": "code",
   "execution_count": 240,
   "metadata": {},
   "outputs": [
    {
     "data": {
      "text/html": [
       "<div>\n",
       "<style scoped>\n",
       "    .dataframe tbody tr th:only-of-type {\n",
       "        vertical-align: middle;\n",
       "    }\n",
       "\n",
       "    .dataframe tbody tr th {\n",
       "        vertical-align: top;\n",
       "    }\n",
       "\n",
       "    .dataframe thead th {\n",
       "        text-align: right;\n",
       "    }\n",
       "</style>\n",
       "<table border=\"1\" class=\"dataframe\">\n",
       "  <thead>\n",
       "    <tr style=\"text-align: right;\">\n",
       "      <th></th>\n",
       "      <th>repo_name</th>\n",
       "      <th>description</th>\n",
       "      <th>created_at</th>\n",
       "      <th>pushed_at</th>\n",
       "      <th>forks_count</th>\n",
       "      <th>stargazers_count</th>\n",
       "      <th>subscribers_count</th>\n",
       "      <th>open_issues_count</th>\n",
       "      <th>organization_name</th>\n",
       "      <th>topics</th>\n",
       "      <th>pulls_count</th>\n",
       "      <th>commits_count</th>\n",
       "      <th>branches_count</th>\n",
       "      <th>releases_count</th>\n",
       "      <th>contributors_count</th>\n",
       "      <th>last_commit_time</th>\n",
       "      <th>readme</th>\n",
       "      <th>language</th>\n",
       "    </tr>\n",
       "  </thead>\n",
       "  <tbody>\n",
       "    <tr>\n",
       "      <th>1733</th>\n",
       "      <td>udacity/aind2-dl</td>\n",
       "      <td>None</td>\n",
       "      <td>2017-05-08T02:29:48Z</td>\n",
       "      <td>2018-03-30T04:26:53Z</td>\n",
       "      <td>181</td>\n",
       "      <td>33</td>\n",
       "      <td>12</td>\n",
       "      <td>6</td>\n",
       "      <td>udacity</td>\n",
       "      <td>None</td>\n",
       "      <td>3</td>\n",
       "      <td>21</td>\n",
       "      <td>2</td>\n",
       "      <td>0</td>\n",
       "      <td>4</td>\n",
       "      <td>2017-12-05T21:15:21Z</td>\n",
       "      <td>b'# aind2-dl\\n\\n### Instructions\\n\\n1. Clone t...</td>\n",
       "      <td>Jupyter Notebook</td>\n",
       "    </tr>\n",
       "    <tr>\n",
       "      <th>5964</th>\n",
       "      <td>acgd-webdev-2/hot-grid-dle</td>\n",
       "      <td>Create a small layout using grids, hiding and ...</td>\n",
       "      <td>2018-01-23T21:00:26Z</td>\n",
       "      <td>2019-01-25T20:20:10Z</td>\n",
       "      <td>124</td>\n",
       "      <td>0</td>\n",
       "      <td>1</td>\n",
       "      <td>0</td>\n",
       "      <td>acgd-webdev-2</td>\n",
       "      <td>None</td>\n",
       "      <td>0</td>\n",
       "      <td>4</td>\n",
       "      <td>1</td>\n",
       "      <td>0</td>\n",
       "      <td>1</td>\n",
       "      <td>2019-01-25T20:20:01Z</td>\n",
       "      <td>b\"---\\nsummary: 'Create a small layout using g...</td>\n",
       "      <td></td>\n",
       "    </tr>\n",
       "    <tr>\n",
       "      <th>8952</th>\n",
       "      <td>pombredanne/udemy-dl</td>\n",
       "      <td>Udemy free video downloader</td>\n",
       "      <td>2013-11-02T23:21:43Z</td>\n",
       "      <td>2015-10-07T02:04:34Z</td>\n",
       "      <td>108</td>\n",
       "      <td>2</td>\n",
       "      <td>3</td>\n",
       "      <td>1</td>\n",
       "      <td>None</td>\n",
       "      <td>None</td>\n",
       "      <td>1</td>\n",
       "      <td>2</td>\n",
       "      <td>1</td>\n",
       "      <td>0</td>\n",
       "      <td>1</td>\n",
       "      <td>2013-02-02T23:13:53Z</td>\n",
       "      <td>b'A script to download downloadable lectures f...</td>\n",
       "      <td></td>\n",
       "    </tr>\n",
       "    <tr>\n",
       "      <th>12078</th>\n",
       "      <td>soumyadsanyal/foundations_for_deep_learning</td>\n",
       "      <td>Building a foundation for deep learning with m...</td>\n",
       "      <td>2017-05-29T07:34:21Z</td>\n",
       "      <td>2017-05-28T16:20:26Z</td>\n",
       "      <td>268</td>\n",
       "      <td>22</td>\n",
       "      <td>5</td>\n",
       "      <td>0</td>\n",
       "      <td>None</td>\n",
       "      <td>None</td>\n",
       "      <td>0</td>\n",
       "      <td>10</td>\n",
       "      <td>1</td>\n",
       "      <td>0</td>\n",
       "      <td>1</td>\n",
       "      <td>2017-05-28T16:20:21Z</td>\n",
       "      <td>b'# foundations for deep learning:\\n1. I empha...</td>\n",
       "      <td></td>\n",
       "    </tr>\n",
       "    <tr>\n",
       "      <th>12726</th>\n",
       "      <td>udacity/RoboND-DeepLearning-Project</td>\n",
       "      <td>RoboND Term 1 Deep Learning Project, Follow-Me</td>\n",
       "      <td>2017-09-15T17:26:46Z</td>\n",
       "      <td>2017-12-19T04:49:42Z</td>\n",
       "      <td>197</td>\n",
       "      <td>47</td>\n",
       "      <td>24</td>\n",
       "      <td>3</td>\n",
       "      <td>udacity</td>\n",
       "      <td>None</td>\n",
       "      <td>0</td>\n",
       "      <td>20</td>\n",
       "      <td>2</td>\n",
       "      <td>6</td>\n",
       "      <td>6</td>\n",
       "      <td>2017-12-19T04:49:42Z</td>\n",
       "      <td>b'[![Udacity - Robotics NanoDegree Program](ht...</td>\n",
       "      <td>Python,Jupyter Notebook</td>\n",
       "    </tr>\n",
       "    <tr>\n",
       "      <th>21640</th>\n",
       "      <td>DeepLearningDTU/02456-deep-learning-with-PyTorch</td>\n",
       "      <td>Exercises and supplementary material for the d...</td>\n",
       "      <td>2018-08-26T07:44:21Z</td>\n",
       "      <td>2019-10-27T20:50:05Z</td>\n",
       "      <td>104</td>\n",
       "      <td>70</td>\n",
       "      <td>18</td>\n",
       "      <td>5</td>\n",
       "      <td>DeepLearningDTU</td>\n",
       "      <td>None</td>\n",
       "      <td>1</td>\n",
       "      <td>101</td>\n",
       "      <td>5</td>\n",
       "      <td>0</td>\n",
       "      <td>10</td>\n",
       "      <td>2019-10-27T20:50:04Z</td>\n",
       "      <td>b'# 02456-deep-learning-with-PyTorch\\n\\nThis r...</td>\n",
       "      <td>Jupyter Notebook,Python,Shell</td>\n",
       "    </tr>\n",
       "    <tr>\n",
       "      <th>24765</th>\n",
       "      <td>SmartThingsUle/DLNA-PLAYER</td>\n",
       "      <td>Generic DLNA Player to Smartthings</td>\n",
       "      <td>2015-02-13T00:22:07Z</td>\n",
       "      <td>2018-10-13T07:50:14Z</td>\n",
       "      <td>254</td>\n",
       "      <td>96</td>\n",
       "      <td>57</td>\n",
       "      <td>15</td>\n",
       "      <td>None</td>\n",
       "      <td>None</td>\n",
       "      <td>3</td>\n",
       "      <td>171</td>\n",
       "      <td>1</td>\n",
       "      <td>0</td>\n",
       "      <td>1</td>\n",
       "      <td>2018-10-13T07:50:13Z</td>\n",
       "      <td>b'# DLNA-PLAYER \\nGeneric DLNA Player to Smart...</td>\n",
       "      <td>Groovy</td>\n",
       "    </tr>\n",
       "  </tbody>\n",
       "</table>\n",
       "</div>"
      ],
      "text/plain": [
       "                                              repo_name  \\\n",
       "1733                                   udacity/aind2-dl   \n",
       "5964                         acgd-webdev-2/hot-grid-dle   \n",
       "8952                               pombredanne/udemy-dl   \n",
       "12078       soumyadsanyal/foundations_for_deep_learning   \n",
       "12726               udacity/RoboND-DeepLearning-Project   \n",
       "21640  DeepLearningDTU/02456-deep-learning-with-PyTorch   \n",
       "24765                        SmartThingsUle/DLNA-PLAYER   \n",
       "\n",
       "                                             description  \\\n",
       "1733                                                None   \n",
       "5964   Create a small layout using grids, hiding and ...   \n",
       "8952                         Udemy free video downloader   \n",
       "12078  Building a foundation for deep learning with m...   \n",
       "12726     RoboND Term 1 Deep Learning Project, Follow-Me   \n",
       "21640  Exercises and supplementary material for the d...   \n",
       "24765                 Generic DLNA Player to Smartthings   \n",
       "\n",
       "                 created_at             pushed_at  forks_count  \\\n",
       "1733   2017-05-08T02:29:48Z  2018-03-30T04:26:53Z          181   \n",
       "5964   2018-01-23T21:00:26Z  2019-01-25T20:20:10Z          124   \n",
       "8952   2013-11-02T23:21:43Z  2015-10-07T02:04:34Z          108   \n",
       "12078  2017-05-29T07:34:21Z  2017-05-28T16:20:26Z          268   \n",
       "12726  2017-09-15T17:26:46Z  2017-12-19T04:49:42Z          197   \n",
       "21640  2018-08-26T07:44:21Z  2019-10-27T20:50:05Z          104   \n",
       "24765  2015-02-13T00:22:07Z  2018-10-13T07:50:14Z          254   \n",
       "\n",
       "       stargazers_count  subscribers_count  open_issues_count  \\\n",
       "1733                 33                 12                  6   \n",
       "5964                  0                  1                  0   \n",
       "8952                  2                  3                  1   \n",
       "12078                22                  5                  0   \n",
       "12726                47                 24                  3   \n",
       "21640                70                 18                  5   \n",
       "24765                96                 57                 15   \n",
       "\n",
       "      organization_name topics  pulls_count  commits_count  branches_count  \\\n",
       "1733            udacity   None            3             21               2   \n",
       "5964      acgd-webdev-2   None            0              4               1   \n",
       "8952               None   None            1              2               1   \n",
       "12078              None   None            0             10               1   \n",
       "12726           udacity   None            0             20               2   \n",
       "21640   DeepLearningDTU   None            1            101               5   \n",
       "24765              None   None            3            171               1   \n",
       "\n",
       "       releases_count  contributors_count      last_commit_time  \\\n",
       "1733                0                   4  2017-12-05T21:15:21Z   \n",
       "5964                0                   1  2019-01-25T20:20:01Z   \n",
       "8952                0                   1  2013-02-02T23:13:53Z   \n",
       "12078               0                   1  2017-05-28T16:20:21Z   \n",
       "12726               6                   6  2017-12-19T04:49:42Z   \n",
       "21640               0                  10  2019-10-27T20:50:04Z   \n",
       "24765               0                   1  2018-10-13T07:50:13Z   \n",
       "\n",
       "                                                  readme  \\\n",
       "1733   b'# aind2-dl\\n\\n### Instructions\\n\\n1. Clone t...   \n",
       "5964   b\"---\\nsummary: 'Create a small layout using g...   \n",
       "8952   b'A script to download downloadable lectures f...   \n",
       "12078  b'# foundations for deep learning:\\n1. I empha...   \n",
       "12726  b'[![Udacity - Robotics NanoDegree Program](ht...   \n",
       "21640  b'# 02456-deep-learning-with-PyTorch\\n\\nThis r...   \n",
       "24765  b'# DLNA-PLAYER \\nGeneric DLNA Player to Smart...   \n",
       "\n",
       "                            language  \n",
       "1733                Jupyter Notebook  \n",
       "5964                                  \n",
       "8952                                  \n",
       "12078                                 \n",
       "12726        Python,Jupyter Notebook  \n",
       "21640  Jupyter Notebook,Python,Shell  \n",
       "24765                         Groovy  "
      ]
     },
     "execution_count": 240,
     "metadata": {},
     "output_type": "execute_result"
    }
   ],
   "source": [
    "# get repo that fork is greater than 100, but stargazers is not\n",
    "a = pd.DataFrame(dl_info['stargazers_count'][dl_info['forks_count'] > 100] < 100)\n",
    "index = a[a['stargazers_count'] == True].index\n",
    "dl_info.iloc[index,:]"
   ]
  },
  {
   "cell_type": "code",
   "execution_count": null,
   "metadata": {},
   "outputs": [],
   "source": [
    "# commits > 100, and stargazers is also >100\n",
    "sum(dl_info['stargazers_count'][dl_info['commits_count'] > 100] > 100)"
   ]
  },
  {
   "cell_type": "code",
   "execution_count": 69,
   "metadata": {},
   "outputs": [
    {
     "data": {
      "text/html": [
       "<div>\n",
       "<style scoped>\n",
       "    .dataframe tbody tr th:only-of-type {\n",
       "        vertical-align: middle;\n",
       "    }\n",
       "\n",
       "    .dataframe tbody tr th {\n",
       "        vertical-align: top;\n",
       "    }\n",
       "\n",
       "    .dataframe thead th {\n",
       "        text-align: right;\n",
       "    }\n",
       "</style>\n",
       "<table border=\"1\" class=\"dataframe\">\n",
       "  <thead>\n",
       "    <tr style=\"text-align: right;\">\n",
       "      <th></th>\n",
       "      <th>repo_name</th>\n",
       "      <th>description</th>\n",
       "      <th>created_at</th>\n",
       "      <th>pushed_at</th>\n",
       "      <th>forks_count</th>\n",
       "      <th>stargazers_count</th>\n",
       "      <th>subscribers_count</th>\n",
       "      <th>open_issues_count</th>\n",
       "      <th>organization_name</th>\n",
       "      <th>topics</th>\n",
       "      <th>pulls_count</th>\n",
       "      <th>commits_count</th>\n",
       "      <th>branches_count</th>\n",
       "      <th>releases_count</th>\n",
       "      <th>contributors_count</th>\n",
       "      <th>last_commit_time</th>\n",
       "      <th>readme</th>\n",
       "      <th>language</th>\n",
       "    </tr>\n",
       "  </thead>\n",
       "  <tbody>\n",
       "    <tr>\n",
       "      <th>8</th>\n",
       "      <td>sical/Data-Visualization-with-Deep-Learning</td>\n",
       "      <td>The last results of deep learning researches h...</td>\n",
       "      <td>2017-01-12T12:26:55Z</td>\n",
       "      <td>2018-06-01T07:52:23Z</td>\n",
       "      <td>3</td>\n",
       "      <td>6</td>\n",
       "      <td>5</td>\n",
       "      <td>0</td>\n",
       "      <td>sical</td>\n",
       "      <td>None</td>\n",
       "      <td>0</td>\n",
       "      <td>145</td>\n",
       "      <td>1</td>\n",
       "      <td>0</td>\n",
       "      <td>2</td>\n",
       "      <td>2018-06-01T07:52:22Z</td>\n",
       "      <td>b'# Data-Visualization-with-Deep-Learning\\n\\nT...</td>\n",
       "      <td>JavaScript,Python,HTML,CSS</td>\n",
       "    </tr>\n",
       "    <tr>\n",
       "      <th>13</th>\n",
       "      <td>cchmc-dll/ai_preproc</td>\n",
       "      <td>Preprocessing pipeline for Deep Learning LAB</td>\n",
       "      <td>2019-08-09T15:22:23Z</td>\n",
       "      <td>2019-10-02T20:47:17Z</td>\n",
       "      <td>0</td>\n",
       "      <td>0</td>\n",
       "      <td>1</td>\n",
       "      <td>0</td>\n",
       "      <td>cchmc-dll</td>\n",
       "      <td>None</td>\n",
       "      <td>0</td>\n",
       "      <td>31</td>\n",
       "      <td>1</td>\n",
       "      <td>0</td>\n",
       "      <td>1</td>\n",
       "      <td>2019-10-02T20:47:04Z</td>\n",
       "      <td>b'# ai_preproc\\nPreprocessing pipeline for Dee...</td>\n",
       "      <td>Python,Jupyter Notebook,Dockerfile</td>\n",
       "    </tr>\n",
       "    <tr>\n",
       "      <th>14</th>\n",
       "      <td>machine-learning-experiments/deep-learning-not...</td>\n",
       "      <td>doing</td>\n",
       "      <td>2018-03-19T21:07:39Z</td>\n",
       "      <td>2018-03-19T22:13:51Z</td>\n",
       "      <td>0</td>\n",
       "      <td>0</td>\n",
       "      <td>0</td>\n",
       "      <td>0</td>\n",
       "      <td>machine-learning-experiments</td>\n",
       "      <td>None</td>\n",
       "      <td>0</td>\n",
       "      <td>3</td>\n",
       "      <td>1</td>\n",
       "      <td>0</td>\n",
       "      <td>0</td>\n",
       "      <td>2018-03-19T22:13:45Z</td>\n",
       "      <td>b'[![License](http://img.shields.io/:license-m...</td>\n",
       "      <td></td>\n",
       "    </tr>\n",
       "  </tbody>\n",
       "</table>\n",
       "</div>"
      ],
      "text/plain": [
       "                                            repo_name  \\\n",
       "8         sical/Data-Visualization-with-Deep-Learning   \n",
       "13                               cchmc-dll/ai_preproc   \n",
       "14  machine-learning-experiments/deep-learning-not...   \n",
       "\n",
       "                                          description            created_at  \\\n",
       "8   The last results of deep learning researches h...  2017-01-12T12:26:55Z   \n",
       "13       Preprocessing pipeline for Deep Learning LAB  2019-08-09T15:22:23Z   \n",
       "14                                              doing  2018-03-19T21:07:39Z   \n",
       "\n",
       "               pushed_at  forks_count  stargazers_count  subscribers_count  \\\n",
       "8   2018-06-01T07:52:23Z            3                 6                  5   \n",
       "13  2019-10-02T20:47:17Z            0                 0                  1   \n",
       "14  2018-03-19T22:13:51Z            0                 0                  0   \n",
       "\n",
       "    open_issues_count             organization_name topics  pulls_count  \\\n",
       "8                   0                         sical   None            0   \n",
       "13                  0                     cchmc-dll   None            0   \n",
       "14                  0  machine-learning-experiments   None            0   \n",
       "\n",
       "    commits_count  branches_count  releases_count  contributors_count  \\\n",
       "8             145               1               0                   2   \n",
       "13             31               1               0                   1   \n",
       "14              3               1               0                   0   \n",
       "\n",
       "        last_commit_time                                             readme  \\\n",
       "8   2018-06-01T07:52:22Z  b'# Data-Visualization-with-Deep-Learning\\n\\nT...   \n",
       "13  2019-10-02T20:47:04Z  b'# ai_preproc\\nPreprocessing pipeline for Dee...   \n",
       "14  2018-03-19T22:13:45Z  b'[![License](http://img.shields.io/:license-m...   \n",
       "\n",
       "                              language  \n",
       "8           JavaScript,Python,HTML,CSS  \n",
       "13  Python,Jupyter Notebook,Dockerfile  \n",
       "14                                      "
      ]
     },
     "execution_count": 69,
     "metadata": {},
     "output_type": "execute_result"
    }
   ],
   "source": [
    "# get repo that has organization\n",
    "dl_info[dl_info['organization_name'] != 'None'].head(3)"
   ]
  },
  {
   "cell_type": "markdown",
   "metadata": {},
   "source": [
    "### Convert value into range"
   ]
  },
  {
   "cell_type": "code",
   "execution_count": 71,
   "metadata": {},
   "outputs": [
    {
     "data": {
      "text/html": [
       "<div>\n",
       "<style scoped>\n",
       "    .dataframe tbody tr th:only-of-type {\n",
       "        vertical-align: middle;\n",
       "    }\n",
       "\n",
       "    .dataframe tbody tr th {\n",
       "        vertical-align: top;\n",
       "    }\n",
       "\n",
       "    .dataframe thead th {\n",
       "        text-align: right;\n",
       "    }\n",
       "</style>\n",
       "<table border=\"1\" class=\"dataframe\">\n",
       "  <thead>\n",
       "    <tr style=\"text-align: right;\">\n",
       "      <th></th>\n",
       "      <th>repo_name</th>\n",
       "      <th>description</th>\n",
       "      <th>created_at</th>\n",
       "      <th>pushed_at</th>\n",
       "      <th>forks_count</th>\n",
       "      <th>stargazers_count</th>\n",
       "      <th>subscribers_count</th>\n",
       "      <th>open_issues_count</th>\n",
       "      <th>organization_name</th>\n",
       "      <th>topics</th>\n",
       "      <th>pulls_count</th>\n",
       "      <th>commits_count</th>\n",
       "      <th>branches_count</th>\n",
       "      <th>releases_count</th>\n",
       "      <th>contributors_count</th>\n",
       "      <th>last_commit_time</th>\n",
       "      <th>readme</th>\n",
       "      <th>language</th>\n",
       "      <th>forks_status</th>\n",
       "    </tr>\n",
       "  </thead>\n",
       "  <tbody>\n",
       "    <tr>\n",
       "      <th>0</th>\n",
       "      <td>drafting-dreams/DeepLearningCourse2Week1</td>\n",
       "      <td>None</td>\n",
       "      <td>2018-02-21T08:07:54Z</td>\n",
       "      <td>2018-02-21T08:10:05Z</td>\n",
       "      <td>0</td>\n",
       "      <td>0</td>\n",
       "      <td>0</td>\n",
       "      <td>0</td>\n",
       "      <td>None</td>\n",
       "      <td>None</td>\n",
       "      <td>0</td>\n",
       "      <td>1</td>\n",
       "      <td>1</td>\n",
       "      <td>0</td>\n",
       "      <td>1</td>\n",
       "      <td>2018-02-21T08:08:21Z</td>\n",
       "      <td>None</td>\n",
       "      <td>Jupyter Notebook,Python</td>\n",
       "      <td>0-5</td>\n",
       "    </tr>\n",
       "    <tr>\n",
       "      <th>1</th>\n",
       "      <td>patirasam/Deep-Learning-CNN-Text-Prediction</td>\n",
       "      <td>Aim of this project is to learn how text proce...</td>\n",
       "      <td>2018-03-26T21:19:34Z</td>\n",
       "      <td>2018-03-31T17:57:23Z</td>\n",
       "      <td>0</td>\n",
       "      <td>0</td>\n",
       "      <td>0</td>\n",
       "      <td>0</td>\n",
       "      <td>None</td>\n",
       "      <td>None</td>\n",
       "      <td>0</td>\n",
       "      <td>8</td>\n",
       "      <td>1</td>\n",
       "      <td>0</td>\n",
       "      <td>1</td>\n",
       "      <td>2018-03-31T17:57:22Z</td>\n",
       "      <td>b'# Machine-Learning-CNN-Text-Prediction\\nAim ...</td>\n",
       "      <td>Python</td>\n",
       "      <td>0-5</td>\n",
       "    </tr>\n",
       "    <tr>\n",
       "      <th>2</th>\n",
       "      <td>lendenmc/ifskills-dl</td>\n",
       "      <td>Command line program to download training cour...</td>\n",
       "      <td>2016-09-26T20:21:47Z</td>\n",
       "      <td>2016-12-07T08:45:19Z</td>\n",
       "      <td>0</td>\n",
       "      <td>1</td>\n",
       "      <td>0</td>\n",
       "      <td>4</td>\n",
       "      <td>None</td>\n",
       "      <td>python3,beautifulsoup,video-lecture,requests,c...</td>\n",
       "      <td>0</td>\n",
       "      <td>40</td>\n",
       "      <td>1</td>\n",
       "      <td>5</td>\n",
       "      <td>1</td>\n",
       "      <td>2016-12-02T10:15:53Z</td>\n",
       "      <td>b\"# Ifskills-dl\\n\\n##  https://learn.infinites...</td>\n",
       "      <td>Python</td>\n",
       "      <td>0-5</td>\n",
       "    </tr>\n",
       "  </tbody>\n",
       "</table>\n",
       "</div>"
      ],
      "text/plain": [
       "                                     repo_name  \\\n",
       "0     drafting-dreams/DeepLearningCourse2Week1   \n",
       "1  patirasam/Deep-Learning-CNN-Text-Prediction   \n",
       "2                         lendenmc/ifskills-dl   \n",
       "\n",
       "                                         description            created_at  \\\n",
       "0                                               None  2018-02-21T08:07:54Z   \n",
       "1  Aim of this project is to learn how text proce...  2018-03-26T21:19:34Z   \n",
       "2  Command line program to download training cour...  2016-09-26T20:21:47Z   \n",
       "\n",
       "              pushed_at  forks_count  stargazers_count  subscribers_count  \\\n",
       "0  2018-02-21T08:10:05Z            0                 0                  0   \n",
       "1  2018-03-31T17:57:23Z            0                 0                  0   \n",
       "2  2016-12-07T08:45:19Z            0                 1                  0   \n",
       "\n",
       "   open_issues_count organization_name  \\\n",
       "0                  0              None   \n",
       "1                  0              None   \n",
       "2                  4              None   \n",
       "\n",
       "                                              topics  pulls_count  \\\n",
       "0                                               None            0   \n",
       "1                                               None            0   \n",
       "2  python3,beautifulsoup,video-lecture,requests,c...            0   \n",
       "\n",
       "   commits_count  branches_count  releases_count  contributors_count  \\\n",
       "0              1               1               0                   1   \n",
       "1              8               1               0                   1   \n",
       "2             40               1               5                   1   \n",
       "\n",
       "       last_commit_time                                             readme  \\\n",
       "0  2018-02-21T08:08:21Z                                               None   \n",
       "1  2018-03-31T17:57:22Z  b'# Machine-Learning-CNN-Text-Prediction\\nAim ...   \n",
       "2  2016-12-02T10:15:53Z  b\"# Ifskills-dl\\n\\n##  https://learn.infinites...   \n",
       "\n",
       "                  language forks_status  \n",
       "0  Jupyter Notebook,Python          0-5  \n",
       "1                   Python          0-5  \n",
       "2                   Python          0-5  "
      ]
     },
     "execution_count": 71,
     "metadata": {},
     "output_type": "execute_result"
    }
   ],
   "source": [
    "\n",
    "dl_info['forks_status'] = pd.cut(dl_info['forks_count'], bins=[-1, 5, 10, 50, 100, max(dl_info['forks_count'])], labels=False)\n",
    "labels = np.array('0-5 5-10 10-50 50-100 100-max'.split())\n",
    "dl_info['forks_status'] = labels[dl_info['forks_status']]\n",
    "dl_info.head(3)"
   ]
  },
  {
   "cell_type": "code",
   "execution_count": 53,
   "metadata": {},
   "outputs": [
    {
     "data": {
      "text/plain": [
       "<matplotlib.axes._subplots.AxesSubplot at 0x1a27e4f9b0>"
      ]
     },
     "execution_count": 53,
     "metadata": {},
     "output_type": "execute_result"
    },
    {
     "data": {
      "image/png": "[encoded data removed]",
      "text/plain": [
       "<Figure size 432x288 with 1 Axes>"
      ]
     },
     "metadata": {
      "needs_background": "light"
     },
     "output_type": "display_data"
    }
   ],
   "source": [
    "sns.countplot(x= \"forks_status\", data=dl_info, color = 'green')"
   ]
  },
  {
   "cell_type": "code",
   "execution_count": 54,
   "metadata": {},
   "outputs": [
    {
     "data": {
      "text/plain": [
       "<matplotlib.axes._subplots.AxesSubplot at 0x1a2814d1d0>"
      ]
     },
     "execution_count": 54,
     "metadata": {},
     "output_type": "execute_result"
    },
    {
     "data": {
      "image/png": "[encoded data removed]",
      "text/plain": [
       "<Figure size 432x288 with 1 Axes>"
      ]
     },
     "metadata": {
      "needs_background": "light"
     },
     "output_type": "display_data"
    }
   ],
   "source": [
    "dl_info['stargazers_status'] = pd.cut(dl_info['stargazers_count'], bins=[-1, 5, 10, 50, 100, max(dl_info['stargazers_count'])], labels=False)\n",
    "labels = np.array('0-5 5-10 10-50 50-100 100-max'.split())\n",
    "dl_info['stargazers_status'] = labels[dl_info['stargazers_status']]\n",
    "sns.countplot(x= \"stargazers_status\", data=dl_info, color = 'green')\n"
   ]
  },
  {
   "cell_type": "code",
   "execution_count": 55,
   "metadata": {},
   "outputs": [
    {
     "data": {
      "text/plain": [
       "<matplotlib.axes._subplots.AxesSubplot at 0x1a283ce550>"
      ]
     },
     "execution_count": 55,
     "metadata": {},
     "output_type": "execute_result"
    },
    {
     "data": {
      "image/png": "[encoded data removed]",
      "text/plain": [
       "<Figure size 432x288 with 1 Axes>"
      ]
     },
     "metadata": {
      "needs_background": "light"
     },
     "output_type": "display_data"
    }
   ],
   "source": [
    "dl_info['subscribers_status'] = pd.cut(dl_info['subscribers_count'], bins=[-1, 5, 10, 50, 100, max(dl_info['subscribers_count'])], labels=False)\n",
    "labels = np.array('0-5 5-10 10-50 50-100 100-max'.split())\n",
    "dl_info['subscribers_status'] = labels[dl_info['subscribers_status']]\n",
    "sns.countplot(x= \"subscribers_status\", data=dl_info, color = 'green')\n"
   ]
  },
  {
   "cell_type": "code",
   "execution_count": 64,
   "metadata": {},
   "outputs": [
    {
     "data": {
      "text/plain": [
       "<matplotlib.axes._subplots.AxesSubplot at 0x1a2542dc50>"
      ]
     },
     "execution_count": 64,
     "metadata": {},
     "output_type": "execute_result"
    },
    {
     "data": {
      "image/png": "[encoded data removed]",
      "text/plain": [
       "<Figure size 432x288 with 1 Axes>"
      ]
     },
     "metadata": {
      "needs_background": "light"
     },
     "output_type": "display_data"
    }
   ],
   "source": [
    "sns.scatterplot(x = 'forks_count', y = 'stargazers_count', data = dl_info, hue = 'subscribers_status')"
   ]
  },
  {
   "cell_type": "code",
   "execution_count": 66,
   "metadata": {},
   "outputs": [
    {
     "data": {
      "image/png": "[encoded data removed]",
      "text/plain": [
       "<Figure size 432x288 with 1 Axes>"
      ]
     },
     "metadata": {
      "needs_background": "light"
     },
     "output_type": "display_data"
    }
   ],
   "source": [
    "dl_info['commits_status'] = pd.cut(dl_info['commits_count'], bins=[-1, 5, 10, 50, 100, max(dl_info['commits_count'])], labels=False)\n",
    "labels = np.array('0-5 5-10 10-50 50-100 100-max'.split())\n",
    "dl_info['commits_status'] = labels[dl_info['commits_status']]\n",
    "sns.countplot(x= \"commits_status\", data=dl_info, color = 'green')\n",
    "plt.title = ('Commits')"
   ]
  },
  {
   "cell_type": "code",
   "execution_count": 67,
   "metadata": {},
   "outputs": [
    {
     "data": {
      "text/plain": [
       "<matplotlib.axes._subplots.AxesSubplot at 0x1a24441dd8>"
      ]
     },
     "execution_count": 67,
     "metadata": {},
     "output_type": "execute_result"
    },
    {
     "data": {
      "image/png": "[encoded data removed]",
      "text/plain": [
       "<Figure size 432x288 with 1 Axes>"
      ]
     },
     "metadata": {
      "needs_background": "light"
     },
     "output_type": "display_data"
    }
   ],
   "source": [
    "sns.scatterplot(x = 'commits_count', y = 'forks_count', data = dl_info, hue = 'subscribers_status')"
   ]
  },
  {
   "cell_type": "markdown",
   "metadata": {},
   "source": [
    "- We can see that even even though commits number is low, forks count could be high. Therefore, commits cannot indicate that the repo is more influential <br> \n",
    "- We can see that there are many outliers. \n",
    "> 1. Get all the outliers, and exclude them to do other analysis <br>\n",
    "> 2. What is the basline? 100?"
   ]
  },
  {
   "cell_type": "code",
   "execution_count": null,
   "metadata": {},
   "outputs": [],
   "source": []
  }
 ],
 "metadata": {
  "kernelspec": {
   "display_name": "Python 3",
   "language": "python",
   "name": "python3"
  },
  "language_info": {
   "codemirror_mode": {
    "name": "ipython",
    "version": 3
   },
   "file_extension": ".py",
   "mimetype": "text/x-python",
   "name": "python",
   "nbconvert_exporter": "python",
   "pygments_lexer": "ipython3",
   "version": "3.7.1"
  }
 },
 "nbformat": 4,
 "nbformat_minor": 2
}
